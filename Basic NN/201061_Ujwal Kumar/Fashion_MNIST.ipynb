{
  "nbformat": 4,
  "nbformat_minor": 0,
  "metadata": {
    "colab": {
      "name": "Fashion_MNIST.ipynb",
      "provenance": [],
      "collapsed_sections": []
    },
    "kernelspec": {
      "name": "python3",
      "display_name": "Python 3"
    },
    "language_info": {
      "name": "python"
    },
    "accelerator": "GPU",
    "widgets": {
      "application/vnd.jupyter.widget-state+json": {
        "f309b92c6dfb48fa9d67c0a135d0a2b9": {
          "model_module": "@jupyter-widgets/controls",
          "model_name": "HBoxModel",
          "state": {
            "_view_name": "HBoxView",
            "_dom_classes": [],
            "_model_name": "HBoxModel",
            "_view_module": "@jupyter-widgets/controls",
            "_model_module_version": "1.5.0",
            "_view_count": null,
            "_view_module_version": "1.5.0",
            "box_style": "",
            "layout": "IPY_MODEL_d437c8bb6ff94f9fa0be8d2daa940dd3",
            "_model_module": "@jupyter-widgets/controls",
            "children": [
              "IPY_MODEL_b83813174d014dde81ca007f5a539685",
              "IPY_MODEL_3b2aca1e339c4ac4ae9933ca0ba30512"
            ]
          }
        },
        "d437c8bb6ff94f9fa0be8d2daa940dd3": {
          "model_module": "@jupyter-widgets/base",
          "model_name": "LayoutModel",
          "state": {
            "_view_name": "LayoutView",
            "grid_template_rows": null,
            "right": null,
            "justify_content": null,
            "_view_module": "@jupyter-widgets/base",
            "overflow": null,
            "_model_module_version": "1.2.0",
            "_view_count": null,
            "flex_flow": null,
            "width": null,
            "min_width": null,
            "border": null,
            "align_items": null,
            "bottom": null,
            "_model_module": "@jupyter-widgets/base",
            "top": null,
            "grid_column": null,
            "overflow_y": null,
            "overflow_x": null,
            "grid_auto_flow": null,
            "grid_area": null,
            "grid_template_columns": null,
            "flex": null,
            "_model_name": "LayoutModel",
            "justify_items": null,
            "grid_row": null,
            "max_height": null,
            "align_content": null,
            "visibility": null,
            "align_self": null,
            "height": null,
            "min_height": null,
            "padding": null,
            "grid_auto_rows": null,
            "grid_gap": null,
            "max_width": null,
            "order": null,
            "_view_module_version": "1.2.0",
            "grid_template_areas": null,
            "object_position": null,
            "object_fit": null,
            "grid_auto_columns": null,
            "margin": null,
            "display": null,
            "left": null
          }
        },
        "b83813174d014dde81ca007f5a539685": {
          "model_module": "@jupyter-widgets/controls",
          "model_name": "FloatProgressModel",
          "state": {
            "_view_name": "ProgressView",
            "style": "IPY_MODEL_4230962dc3234b4f881372b362d32bbd",
            "_dom_classes": [],
            "description": "",
            "_model_name": "FloatProgressModel",
            "bar_style": "success",
            "max": 26421880,
            "_view_module": "@jupyter-widgets/controls",
            "_model_module_version": "1.5.0",
            "value": 26421880,
            "_view_count": null,
            "_view_module_version": "1.5.0",
            "orientation": "horizontal",
            "min": 0,
            "description_tooltip": null,
            "_model_module": "@jupyter-widgets/controls",
            "layout": "IPY_MODEL_daa8d9be5e8e4ba2adf4a35bc570a22d"
          }
        },
        "3b2aca1e339c4ac4ae9933ca0ba30512": {
          "model_module": "@jupyter-widgets/controls",
          "model_name": "HTMLModel",
          "state": {
            "_view_name": "HTMLView",
            "style": "IPY_MODEL_7e145c82af704edba4f09e18c06c07c8",
            "_dom_classes": [],
            "description": "",
            "_model_name": "HTMLModel",
            "placeholder": "​",
            "_view_module": "@jupyter-widgets/controls",
            "_model_module_version": "1.5.0",
            "value": " 26422272/? [00:12&lt;00:00, 2081655.75it/s]",
            "_view_count": null,
            "_view_module_version": "1.5.0",
            "description_tooltip": null,
            "_model_module": "@jupyter-widgets/controls",
            "layout": "IPY_MODEL_87fccf2c71f34b25ad07186ec41ab2a2"
          }
        },
        "4230962dc3234b4f881372b362d32bbd": {
          "model_module": "@jupyter-widgets/controls",
          "model_name": "ProgressStyleModel",
          "state": {
            "_view_name": "StyleView",
            "_model_name": "ProgressStyleModel",
            "description_width": "initial",
            "_view_module": "@jupyter-widgets/base",
            "_model_module_version": "1.5.0",
            "_view_count": null,
            "_view_module_version": "1.2.0",
            "bar_color": null,
            "_model_module": "@jupyter-widgets/controls"
          }
        },
        "daa8d9be5e8e4ba2adf4a35bc570a22d": {
          "model_module": "@jupyter-widgets/base",
          "model_name": "LayoutModel",
          "state": {
            "_view_name": "LayoutView",
            "grid_template_rows": null,
            "right": null,
            "justify_content": null,
            "_view_module": "@jupyter-widgets/base",
            "overflow": null,
            "_model_module_version": "1.2.0",
            "_view_count": null,
            "flex_flow": null,
            "width": null,
            "min_width": null,
            "border": null,
            "align_items": null,
            "bottom": null,
            "_model_module": "@jupyter-widgets/base",
            "top": null,
            "grid_column": null,
            "overflow_y": null,
            "overflow_x": null,
            "grid_auto_flow": null,
            "grid_area": null,
            "grid_template_columns": null,
            "flex": null,
            "_model_name": "LayoutModel",
            "justify_items": null,
            "grid_row": null,
            "max_height": null,
            "align_content": null,
            "visibility": null,
            "align_self": null,
            "height": null,
            "min_height": null,
            "padding": null,
            "grid_auto_rows": null,
            "grid_gap": null,
            "max_width": null,
            "order": null,
            "_view_module_version": "1.2.0",
            "grid_template_areas": null,
            "object_position": null,
            "object_fit": null,
            "grid_auto_columns": null,
            "margin": null,
            "display": null,
            "left": null
          }
        },
        "7e145c82af704edba4f09e18c06c07c8": {
          "model_module": "@jupyter-widgets/controls",
          "model_name": "DescriptionStyleModel",
          "state": {
            "_view_name": "StyleView",
            "_model_name": "DescriptionStyleModel",
            "description_width": "",
            "_view_module": "@jupyter-widgets/base",
            "_model_module_version": "1.5.0",
            "_view_count": null,
            "_view_module_version": "1.2.0",
            "_model_module": "@jupyter-widgets/controls"
          }
        },
        "87fccf2c71f34b25ad07186ec41ab2a2": {
          "model_module": "@jupyter-widgets/base",
          "model_name": "LayoutModel",
          "state": {
            "_view_name": "LayoutView",
            "grid_template_rows": null,
            "right": null,
            "justify_content": null,
            "_view_module": "@jupyter-widgets/base",
            "overflow": null,
            "_model_module_version": "1.2.0",
            "_view_count": null,
            "flex_flow": null,
            "width": null,
            "min_width": null,
            "border": null,
            "align_items": null,
            "bottom": null,
            "_model_module": "@jupyter-widgets/base",
            "top": null,
            "grid_column": null,
            "overflow_y": null,
            "overflow_x": null,
            "grid_auto_flow": null,
            "grid_area": null,
            "grid_template_columns": null,
            "flex": null,
            "_model_name": "LayoutModel",
            "justify_items": null,
            "grid_row": null,
            "max_height": null,
            "align_content": null,
            "visibility": null,
            "align_self": null,
            "height": null,
            "min_height": null,
            "padding": null,
            "grid_auto_rows": null,
            "grid_gap": null,
            "max_width": null,
            "order": null,
            "_view_module_version": "1.2.0",
            "grid_template_areas": null,
            "object_position": null,
            "object_fit": null,
            "grid_auto_columns": null,
            "margin": null,
            "display": null,
            "left": null
          }
        },
        "49f3e8ea416743beae46266a55b8e848": {
          "model_module": "@jupyter-widgets/controls",
          "model_name": "HBoxModel",
          "state": {
            "_view_name": "HBoxView",
            "_dom_classes": [],
            "_model_name": "HBoxModel",
            "_view_module": "@jupyter-widgets/controls",
            "_model_module_version": "1.5.0",
            "_view_count": null,
            "_view_module_version": "1.5.0",
            "box_style": "",
            "layout": "IPY_MODEL_82ca74c79e374c23b6e4d91b1b215131",
            "_model_module": "@jupyter-widgets/controls",
            "children": [
              "IPY_MODEL_0fa8535281b3435f998e2c313b7c3380",
              "IPY_MODEL_90e2df7984a54fad89e1088f7a002e53"
            ]
          }
        },
        "82ca74c79e374c23b6e4d91b1b215131": {
          "model_module": "@jupyter-widgets/base",
          "model_name": "LayoutModel",
          "state": {
            "_view_name": "LayoutView",
            "grid_template_rows": null,
            "right": null,
            "justify_content": null,
            "_view_module": "@jupyter-widgets/base",
            "overflow": null,
            "_model_module_version": "1.2.0",
            "_view_count": null,
            "flex_flow": null,
            "width": null,
            "min_width": null,
            "border": null,
            "align_items": null,
            "bottom": null,
            "_model_module": "@jupyter-widgets/base",
            "top": null,
            "grid_column": null,
            "overflow_y": null,
            "overflow_x": null,
            "grid_auto_flow": null,
            "grid_area": null,
            "grid_template_columns": null,
            "flex": null,
            "_model_name": "LayoutModel",
            "justify_items": null,
            "grid_row": null,
            "max_height": null,
            "align_content": null,
            "visibility": null,
            "align_self": null,
            "height": null,
            "min_height": null,
            "padding": null,
            "grid_auto_rows": null,
            "grid_gap": null,
            "max_width": null,
            "order": null,
            "_view_module_version": "1.2.0",
            "grid_template_areas": null,
            "object_position": null,
            "object_fit": null,
            "grid_auto_columns": null,
            "margin": null,
            "display": null,
            "left": null
          }
        },
        "0fa8535281b3435f998e2c313b7c3380": {
          "model_module": "@jupyter-widgets/controls",
          "model_name": "FloatProgressModel",
          "state": {
            "_view_name": "ProgressView",
            "style": "IPY_MODEL_20b11d34c0934560aa9cc09b639dd15d",
            "_dom_classes": [],
            "description": "",
            "_model_name": "FloatProgressModel",
            "bar_style": "success",
            "max": 29515,
            "_view_module": "@jupyter-widgets/controls",
            "_model_module_version": "1.5.0",
            "value": 29515,
            "_view_count": null,
            "_view_module_version": "1.5.0",
            "orientation": "horizontal",
            "min": 0,
            "description_tooltip": null,
            "_model_module": "@jupyter-widgets/controls",
            "layout": "IPY_MODEL_746b0f2f550548a091022cc51b7571ae"
          }
        },
        "90e2df7984a54fad89e1088f7a002e53": {
          "model_module": "@jupyter-widgets/controls",
          "model_name": "HTMLModel",
          "state": {
            "_view_name": "HTMLView",
            "style": "IPY_MODEL_c0e6c79cbdac4c549198ae9464a4e856",
            "_dom_classes": [],
            "description": "",
            "_model_name": "HTMLModel",
            "placeholder": "​",
            "_view_module": "@jupyter-widgets/controls",
            "_model_module_version": "1.5.0",
            "value": " 29696/? [00:00&lt;00:00, 65452.25it/s]",
            "_view_count": null,
            "_view_module_version": "1.5.0",
            "description_tooltip": null,
            "_model_module": "@jupyter-widgets/controls",
            "layout": "IPY_MODEL_b67f1a2adfc245d3ab6203a03a19f8bf"
          }
        },
        "20b11d34c0934560aa9cc09b639dd15d": {
          "model_module": "@jupyter-widgets/controls",
          "model_name": "ProgressStyleModel",
          "state": {
            "_view_name": "StyleView",
            "_model_name": "ProgressStyleModel",
            "description_width": "initial",
            "_view_module": "@jupyter-widgets/base",
            "_model_module_version": "1.5.0",
            "_view_count": null,
            "_view_module_version": "1.2.0",
            "bar_color": null,
            "_model_module": "@jupyter-widgets/controls"
          }
        },
        "746b0f2f550548a091022cc51b7571ae": {
          "model_module": "@jupyter-widgets/base",
          "model_name": "LayoutModel",
          "state": {
            "_view_name": "LayoutView",
            "grid_template_rows": null,
            "right": null,
            "justify_content": null,
            "_view_module": "@jupyter-widgets/base",
            "overflow": null,
            "_model_module_version": "1.2.0",
            "_view_count": null,
            "flex_flow": null,
            "width": null,
            "min_width": null,
            "border": null,
            "align_items": null,
            "bottom": null,
            "_model_module": "@jupyter-widgets/base",
            "top": null,
            "grid_column": null,
            "overflow_y": null,
            "overflow_x": null,
            "grid_auto_flow": null,
            "grid_area": null,
            "grid_template_columns": null,
            "flex": null,
            "_model_name": "LayoutModel",
            "justify_items": null,
            "grid_row": null,
            "max_height": null,
            "align_content": null,
            "visibility": null,
            "align_self": null,
            "height": null,
            "min_height": null,
            "padding": null,
            "grid_auto_rows": null,
            "grid_gap": null,
            "max_width": null,
            "order": null,
            "_view_module_version": "1.2.0",
            "grid_template_areas": null,
            "object_position": null,
            "object_fit": null,
            "grid_auto_columns": null,
            "margin": null,
            "display": null,
            "left": null
          }
        },
        "c0e6c79cbdac4c549198ae9464a4e856": {
          "model_module": "@jupyter-widgets/controls",
          "model_name": "DescriptionStyleModel",
          "state": {
            "_view_name": "StyleView",
            "_model_name": "DescriptionStyleModel",
            "description_width": "",
            "_view_module": "@jupyter-widgets/base",
            "_model_module_version": "1.5.0",
            "_view_count": null,
            "_view_module_version": "1.2.0",
            "_model_module": "@jupyter-widgets/controls"
          }
        },
        "b67f1a2adfc245d3ab6203a03a19f8bf": {
          "model_module": "@jupyter-widgets/base",
          "model_name": "LayoutModel",
          "state": {
            "_view_name": "LayoutView",
            "grid_template_rows": null,
            "right": null,
            "justify_content": null,
            "_view_module": "@jupyter-widgets/base",
            "overflow": null,
            "_model_module_version": "1.2.0",
            "_view_count": null,
            "flex_flow": null,
            "width": null,
            "min_width": null,
            "border": null,
            "align_items": null,
            "bottom": null,
            "_model_module": "@jupyter-widgets/base",
            "top": null,
            "grid_column": null,
            "overflow_y": null,
            "overflow_x": null,
            "grid_auto_flow": null,
            "grid_area": null,
            "grid_template_columns": null,
            "flex": null,
            "_model_name": "LayoutModel",
            "justify_items": null,
            "grid_row": null,
            "max_height": null,
            "align_content": null,
            "visibility": null,
            "align_self": null,
            "height": null,
            "min_height": null,
            "padding": null,
            "grid_auto_rows": null,
            "grid_gap": null,
            "max_width": null,
            "order": null,
            "_view_module_version": "1.2.0",
            "grid_template_areas": null,
            "object_position": null,
            "object_fit": null,
            "grid_auto_columns": null,
            "margin": null,
            "display": null,
            "left": null
          }
        },
        "65094c1257994a2caf6f84e292fa4728": {
          "model_module": "@jupyter-widgets/controls",
          "model_name": "HBoxModel",
          "state": {
            "_view_name": "HBoxView",
            "_dom_classes": [],
            "_model_name": "HBoxModel",
            "_view_module": "@jupyter-widgets/controls",
            "_model_module_version": "1.5.0",
            "_view_count": null,
            "_view_module_version": "1.5.0",
            "box_style": "",
            "layout": "IPY_MODEL_f1494c524731475aa50a40f84571fdd6",
            "_model_module": "@jupyter-widgets/controls",
            "children": [
              "IPY_MODEL_a35937d735214e99bd4cc8ef159e592b",
              "IPY_MODEL_7c2bf0a668c347bea5f8b631dfdfd7f8"
            ]
          }
        },
        "f1494c524731475aa50a40f84571fdd6": {
          "model_module": "@jupyter-widgets/base",
          "model_name": "LayoutModel",
          "state": {
            "_view_name": "LayoutView",
            "grid_template_rows": null,
            "right": null,
            "justify_content": null,
            "_view_module": "@jupyter-widgets/base",
            "overflow": null,
            "_model_module_version": "1.2.0",
            "_view_count": null,
            "flex_flow": null,
            "width": null,
            "min_width": null,
            "border": null,
            "align_items": null,
            "bottom": null,
            "_model_module": "@jupyter-widgets/base",
            "top": null,
            "grid_column": null,
            "overflow_y": null,
            "overflow_x": null,
            "grid_auto_flow": null,
            "grid_area": null,
            "grid_template_columns": null,
            "flex": null,
            "_model_name": "LayoutModel",
            "justify_items": null,
            "grid_row": null,
            "max_height": null,
            "align_content": null,
            "visibility": null,
            "align_self": null,
            "height": null,
            "min_height": null,
            "padding": null,
            "grid_auto_rows": null,
            "grid_gap": null,
            "max_width": null,
            "order": null,
            "_view_module_version": "1.2.0",
            "grid_template_areas": null,
            "object_position": null,
            "object_fit": null,
            "grid_auto_columns": null,
            "margin": null,
            "display": null,
            "left": null
          }
        },
        "a35937d735214e99bd4cc8ef159e592b": {
          "model_module": "@jupyter-widgets/controls",
          "model_name": "FloatProgressModel",
          "state": {
            "_view_name": "ProgressView",
            "style": "IPY_MODEL_d88a6a7836f5410d8f2699903978dde4",
            "_dom_classes": [],
            "description": "",
            "_model_name": "FloatProgressModel",
            "bar_style": "success",
            "max": 4422102,
            "_view_module": "@jupyter-widgets/controls",
            "_model_module_version": "1.5.0",
            "value": 4422102,
            "_view_count": null,
            "_view_module_version": "1.5.0",
            "orientation": "horizontal",
            "min": 0,
            "description_tooltip": null,
            "_model_module": "@jupyter-widgets/controls",
            "layout": "IPY_MODEL_18ee3101cf3249ac8f029ced965e6d3c"
          }
        },
        "7c2bf0a668c347bea5f8b631dfdfd7f8": {
          "model_module": "@jupyter-widgets/controls",
          "model_name": "HTMLModel",
          "state": {
            "_view_name": "HTMLView",
            "style": "IPY_MODEL_fde8092239554a89b2d8f03bcef56e9c",
            "_dom_classes": [],
            "description": "",
            "_model_name": "HTMLModel",
            "placeholder": "​",
            "_view_module": "@jupyter-widgets/controls",
            "_model_module_version": "1.5.0",
            "value": " 4422656/? [00:08&lt;00:00, 534253.13it/s]",
            "_view_count": null,
            "_view_module_version": "1.5.0",
            "description_tooltip": null,
            "_model_module": "@jupyter-widgets/controls",
            "layout": "IPY_MODEL_faff599676484eb38023977f4333ae66"
          }
        },
        "d88a6a7836f5410d8f2699903978dde4": {
          "model_module": "@jupyter-widgets/controls",
          "model_name": "ProgressStyleModel",
          "state": {
            "_view_name": "StyleView",
            "_model_name": "ProgressStyleModel",
            "description_width": "initial",
            "_view_module": "@jupyter-widgets/base",
            "_model_module_version": "1.5.0",
            "_view_count": null,
            "_view_module_version": "1.2.0",
            "bar_color": null,
            "_model_module": "@jupyter-widgets/controls"
          }
        },
        "18ee3101cf3249ac8f029ced965e6d3c": {
          "model_module": "@jupyter-widgets/base",
          "model_name": "LayoutModel",
          "state": {
            "_view_name": "LayoutView",
            "grid_template_rows": null,
            "right": null,
            "justify_content": null,
            "_view_module": "@jupyter-widgets/base",
            "overflow": null,
            "_model_module_version": "1.2.0",
            "_view_count": null,
            "flex_flow": null,
            "width": null,
            "min_width": null,
            "border": null,
            "align_items": null,
            "bottom": null,
            "_model_module": "@jupyter-widgets/base",
            "top": null,
            "grid_column": null,
            "overflow_y": null,
            "overflow_x": null,
            "grid_auto_flow": null,
            "grid_area": null,
            "grid_template_columns": null,
            "flex": null,
            "_model_name": "LayoutModel",
            "justify_items": null,
            "grid_row": null,
            "max_height": null,
            "align_content": null,
            "visibility": null,
            "align_self": null,
            "height": null,
            "min_height": null,
            "padding": null,
            "grid_auto_rows": null,
            "grid_gap": null,
            "max_width": null,
            "order": null,
            "_view_module_version": "1.2.0",
            "grid_template_areas": null,
            "object_position": null,
            "object_fit": null,
            "grid_auto_columns": null,
            "margin": null,
            "display": null,
            "left": null
          }
        },
        "fde8092239554a89b2d8f03bcef56e9c": {
          "model_module": "@jupyter-widgets/controls",
          "model_name": "DescriptionStyleModel",
          "state": {
            "_view_name": "StyleView",
            "_model_name": "DescriptionStyleModel",
            "description_width": "",
            "_view_module": "@jupyter-widgets/base",
            "_model_module_version": "1.5.0",
            "_view_count": null,
            "_view_module_version": "1.2.0",
            "_model_module": "@jupyter-widgets/controls"
          }
        },
        "faff599676484eb38023977f4333ae66": {
          "model_module": "@jupyter-widgets/base",
          "model_name": "LayoutModel",
          "state": {
            "_view_name": "LayoutView",
            "grid_template_rows": null,
            "right": null,
            "justify_content": null,
            "_view_module": "@jupyter-widgets/base",
            "overflow": null,
            "_model_module_version": "1.2.0",
            "_view_count": null,
            "flex_flow": null,
            "width": null,
            "min_width": null,
            "border": null,
            "align_items": null,
            "bottom": null,
            "_model_module": "@jupyter-widgets/base",
            "top": null,
            "grid_column": null,
            "overflow_y": null,
            "overflow_x": null,
            "grid_auto_flow": null,
            "grid_area": null,
            "grid_template_columns": null,
            "flex": null,
            "_model_name": "LayoutModel",
            "justify_items": null,
            "grid_row": null,
            "max_height": null,
            "align_content": null,
            "visibility": null,
            "align_self": null,
            "height": null,
            "min_height": null,
            "padding": null,
            "grid_auto_rows": null,
            "grid_gap": null,
            "max_width": null,
            "order": null,
            "_view_module_version": "1.2.0",
            "grid_template_areas": null,
            "object_position": null,
            "object_fit": null,
            "grid_auto_columns": null,
            "margin": null,
            "display": null,
            "left": null
          }
        },
        "2c6be7ecc2ed41ab8bddf6105e34c799": {
          "model_module": "@jupyter-widgets/controls",
          "model_name": "HBoxModel",
          "state": {
            "_view_name": "HBoxView",
            "_dom_classes": [],
            "_model_name": "HBoxModel",
            "_view_module": "@jupyter-widgets/controls",
            "_model_module_version": "1.5.0",
            "_view_count": null,
            "_view_module_version": "1.5.0",
            "box_style": "",
            "layout": "IPY_MODEL_0dcac2d72b324a5e94ea6f5eb44999ee",
            "_model_module": "@jupyter-widgets/controls",
            "children": [
              "IPY_MODEL_b462d8e9fe8d457bba3950155cfbb702",
              "IPY_MODEL_6ab873b75d8e4401a6d1ec4b5d32277e"
            ]
          }
        },
        "0dcac2d72b324a5e94ea6f5eb44999ee": {
          "model_module": "@jupyter-widgets/base",
          "model_name": "LayoutModel",
          "state": {
            "_view_name": "LayoutView",
            "grid_template_rows": null,
            "right": null,
            "justify_content": null,
            "_view_module": "@jupyter-widgets/base",
            "overflow": null,
            "_model_module_version": "1.2.0",
            "_view_count": null,
            "flex_flow": null,
            "width": null,
            "min_width": null,
            "border": null,
            "align_items": null,
            "bottom": null,
            "_model_module": "@jupyter-widgets/base",
            "top": null,
            "grid_column": null,
            "overflow_y": null,
            "overflow_x": null,
            "grid_auto_flow": null,
            "grid_area": null,
            "grid_template_columns": null,
            "flex": null,
            "_model_name": "LayoutModel",
            "justify_items": null,
            "grid_row": null,
            "max_height": null,
            "align_content": null,
            "visibility": null,
            "align_self": null,
            "height": null,
            "min_height": null,
            "padding": null,
            "grid_auto_rows": null,
            "grid_gap": null,
            "max_width": null,
            "order": null,
            "_view_module_version": "1.2.0",
            "grid_template_areas": null,
            "object_position": null,
            "object_fit": null,
            "grid_auto_columns": null,
            "margin": null,
            "display": null,
            "left": null
          }
        },
        "b462d8e9fe8d457bba3950155cfbb702": {
          "model_module": "@jupyter-widgets/controls",
          "model_name": "FloatProgressModel",
          "state": {
            "_view_name": "ProgressView",
            "style": "IPY_MODEL_16aeeeb7bd0747e08e34036c10e46733",
            "_dom_classes": [],
            "description": "",
            "_model_name": "FloatProgressModel",
            "bar_style": "success",
            "max": 5148,
            "_view_module": "@jupyter-widgets/controls",
            "_model_module_version": "1.5.0",
            "value": 5148,
            "_view_count": null,
            "_view_module_version": "1.5.0",
            "orientation": "horizontal",
            "min": 0,
            "description_tooltip": null,
            "_model_module": "@jupyter-widgets/controls",
            "layout": "IPY_MODEL_3d58eb0e82b744a7a1c74e58cf1fc4f3"
          }
        },
        "6ab873b75d8e4401a6d1ec4b5d32277e": {
          "model_module": "@jupyter-widgets/controls",
          "model_name": "HTMLModel",
          "state": {
            "_view_name": "HTMLView",
            "style": "IPY_MODEL_6f3ebcdd59294fc89cb1a2fbf2194b01",
            "_dom_classes": [],
            "description": "",
            "_model_name": "HTMLModel",
            "placeholder": "​",
            "_view_module": "@jupyter-widgets/controls",
            "_model_module_version": "1.5.0",
            "value": " 6144/? [00:06&lt;00:00, 962.62it/s]",
            "_view_count": null,
            "_view_module_version": "1.5.0",
            "description_tooltip": null,
            "_model_module": "@jupyter-widgets/controls",
            "layout": "IPY_MODEL_a0f8abaff3004253b88899ad321b16f9"
          }
        },
        "16aeeeb7bd0747e08e34036c10e46733": {
          "model_module": "@jupyter-widgets/controls",
          "model_name": "ProgressStyleModel",
          "state": {
            "_view_name": "StyleView",
            "_model_name": "ProgressStyleModel",
            "description_width": "initial",
            "_view_module": "@jupyter-widgets/base",
            "_model_module_version": "1.5.0",
            "_view_count": null,
            "_view_module_version": "1.2.0",
            "bar_color": null,
            "_model_module": "@jupyter-widgets/controls"
          }
        },
        "3d58eb0e82b744a7a1c74e58cf1fc4f3": {
          "model_module": "@jupyter-widgets/base",
          "model_name": "LayoutModel",
          "state": {
            "_view_name": "LayoutView",
            "grid_template_rows": null,
            "right": null,
            "justify_content": null,
            "_view_module": "@jupyter-widgets/base",
            "overflow": null,
            "_model_module_version": "1.2.0",
            "_view_count": null,
            "flex_flow": null,
            "width": null,
            "min_width": null,
            "border": null,
            "align_items": null,
            "bottom": null,
            "_model_module": "@jupyter-widgets/base",
            "top": null,
            "grid_column": null,
            "overflow_y": null,
            "overflow_x": null,
            "grid_auto_flow": null,
            "grid_area": null,
            "grid_template_columns": null,
            "flex": null,
            "_model_name": "LayoutModel",
            "justify_items": null,
            "grid_row": null,
            "max_height": null,
            "align_content": null,
            "visibility": null,
            "align_self": null,
            "height": null,
            "min_height": null,
            "padding": null,
            "grid_auto_rows": null,
            "grid_gap": null,
            "max_width": null,
            "order": null,
            "_view_module_version": "1.2.0",
            "grid_template_areas": null,
            "object_position": null,
            "object_fit": null,
            "grid_auto_columns": null,
            "margin": null,
            "display": null,
            "left": null
          }
        },
        "6f3ebcdd59294fc89cb1a2fbf2194b01": {
          "model_module": "@jupyter-widgets/controls",
          "model_name": "DescriptionStyleModel",
          "state": {
            "_view_name": "StyleView",
            "_model_name": "DescriptionStyleModel",
            "description_width": "",
            "_view_module": "@jupyter-widgets/base",
            "_model_module_version": "1.5.0",
            "_view_count": null,
            "_view_module_version": "1.2.0",
            "_model_module": "@jupyter-widgets/controls"
          }
        },
        "a0f8abaff3004253b88899ad321b16f9": {
          "model_module": "@jupyter-widgets/base",
          "model_name": "LayoutModel",
          "state": {
            "_view_name": "LayoutView",
            "grid_template_rows": null,
            "right": null,
            "justify_content": null,
            "_view_module": "@jupyter-widgets/base",
            "overflow": null,
            "_model_module_version": "1.2.0",
            "_view_count": null,
            "flex_flow": null,
            "width": null,
            "min_width": null,
            "border": null,
            "align_items": null,
            "bottom": null,
            "_model_module": "@jupyter-widgets/base",
            "top": null,
            "grid_column": null,
            "overflow_y": null,
            "overflow_x": null,
            "grid_auto_flow": null,
            "grid_area": null,
            "grid_template_columns": null,
            "flex": null,
            "_model_name": "LayoutModel",
            "justify_items": null,
            "grid_row": null,
            "max_height": null,
            "align_content": null,
            "visibility": null,
            "align_self": null,
            "height": null,
            "min_height": null,
            "padding": null,
            "grid_auto_rows": null,
            "grid_gap": null,
            "max_width": null,
            "order": null,
            "_view_module_version": "1.2.0",
            "grid_template_areas": null,
            "object_position": null,
            "object_fit": null,
            "grid_auto_columns": null,
            "margin": null,
            "display": null,
            "left": null
          }
        }
      }
    }
  },
  "cells": [
    {
      "cell_type": "markdown",
      "metadata": {
        "id": "Qtm_fWd2_SZA"
      },
      "source": [
        "# **ASSIGNMENT 3 - BASICS OF DL**\n",
        "\n",
        "I have continuously taken the help of various sites (special mention : stackoverflow) , whenever I got stuck at any stage ."
      ]
    },
    {
      "cell_type": "markdown",
      "metadata": {
        "id": "BAtBzoRbHgEB"
      },
      "source": [
        "## **Importing Libraries**"
      ]
    },
    {
      "cell_type": "code",
      "metadata": {
        "id": "e9EVY9I5jydJ"
      },
      "source": [
        "import numpy as np\n",
        "import argparse\n",
        "import torch\n",
        "import torch.nn as nn\n",
        "import torchvision\n",
        "import torchvision.transforms as transforms\n",
        "from torchvision import datasets\n",
        "import torch.nn.functional as F\n",
        "import matplotlib.pyplot as plt\n",
        "from torch import optim"
      ],
      "execution_count": 1,
      "outputs": []
    },
    {
      "cell_type": "markdown",
      "metadata": {
        "id": "qLx25CwjHYeL"
      },
      "source": [
        "## **Importing Datasets**"
      ]
    },
    {
      "cell_type": "code",
      "metadata": {
        "id": "nCR4T_DVj4DC",
        "colab": {
          "base_uri": "https://localhost:8080/",
          "height": 539,
          "referenced_widgets": [
            "f309b92c6dfb48fa9d67c0a135d0a2b9",
            "d437c8bb6ff94f9fa0be8d2daa940dd3",
            "b83813174d014dde81ca007f5a539685",
            "3b2aca1e339c4ac4ae9933ca0ba30512",
            "4230962dc3234b4f881372b362d32bbd",
            "daa8d9be5e8e4ba2adf4a35bc570a22d",
            "7e145c82af704edba4f09e18c06c07c8",
            "87fccf2c71f34b25ad07186ec41ab2a2",
            "49f3e8ea416743beae46266a55b8e848",
            "82ca74c79e374c23b6e4d91b1b215131",
            "0fa8535281b3435f998e2c313b7c3380",
            "90e2df7984a54fad89e1088f7a002e53",
            "20b11d34c0934560aa9cc09b639dd15d",
            "746b0f2f550548a091022cc51b7571ae",
            "c0e6c79cbdac4c549198ae9464a4e856",
            "b67f1a2adfc245d3ab6203a03a19f8bf",
            "65094c1257994a2caf6f84e292fa4728",
            "f1494c524731475aa50a40f84571fdd6",
            "a35937d735214e99bd4cc8ef159e592b",
            "7c2bf0a668c347bea5f8b631dfdfd7f8",
            "d88a6a7836f5410d8f2699903978dde4",
            "18ee3101cf3249ac8f029ced965e6d3c",
            "fde8092239554a89b2d8f03bcef56e9c",
            "faff599676484eb38023977f4333ae66",
            "2c6be7ecc2ed41ab8bddf6105e34c799",
            "0dcac2d72b324a5e94ea6f5eb44999ee",
            "b462d8e9fe8d457bba3950155cfbb702",
            "6ab873b75d8e4401a6d1ec4b5d32277e",
            "16aeeeb7bd0747e08e34036c10e46733",
            "3d58eb0e82b744a7a1c74e58cf1fc4f3",
            "6f3ebcdd59294fc89cb1a2fbf2194b01",
            "a0f8abaff3004253b88899ad321b16f9"
          ]
        },
        "outputId": "63b22122-7261-4cca-8628-082f6ded1f15"
      },
      "source": [
        "\n",
        "train=datasets.FashionMNIST(\n",
        "   root=\"data\",\n",
        "   train=True,\n",
        "     download=True,\n",
        "    transform=transforms.ToTensor()\n",
        "\n",
        "  )\n",
        "\n",
        "test=datasets.FashionMNIST(\n",
        "    root=\"data\",\n",
        "    train=False,\n",
        "    \n",
        "transform=transforms.ToTensor()\n",
        "\n",
        "  )\n",
        "\n",
        "training_data=torch.utils.data.DataLoader(train,batch_size=128,shuffle=True)\n",
        "test_data=torch.utils.data.DataLoader(test,batch_size=128,shuffle=False)"
      ],
      "execution_count": 2,
      "outputs": [
        {
          "output_type": "stream",
          "text": [
            "Downloading http://fashion-mnist.s3-website.eu-central-1.amazonaws.com/train-images-idx3-ubyte.gz\n",
            "Downloading http://fashion-mnist.s3-website.eu-central-1.amazonaws.com/train-images-idx3-ubyte.gz to data/FashionMNIST/raw/train-images-idx3-ubyte.gz\n"
          ],
          "name": "stdout"
        },
        {
          "output_type": "display_data",
          "data": {
            "application/vnd.jupyter.widget-view+json": {
              "model_id": "f309b92c6dfb48fa9d67c0a135d0a2b9",
              "version_minor": 0,
              "version_major": 2
            },
            "text/plain": [
              "HBox(children=(FloatProgress(value=0.0, max=26421880.0), HTML(value='')))"
            ]
          },
          "metadata": {
            "tags": []
          }
        },
        {
          "output_type": "stream",
          "text": [
            "\n",
            "Extracting data/FashionMNIST/raw/train-images-idx3-ubyte.gz to data/FashionMNIST/raw\n",
            "\n",
            "Downloading http://fashion-mnist.s3-website.eu-central-1.amazonaws.com/train-labels-idx1-ubyte.gz\n",
            "Downloading http://fashion-mnist.s3-website.eu-central-1.amazonaws.com/train-labels-idx1-ubyte.gz to data/FashionMNIST/raw/train-labels-idx1-ubyte.gz\n"
          ],
          "name": "stdout"
        },
        {
          "output_type": "display_data",
          "data": {
            "application/vnd.jupyter.widget-view+json": {
              "model_id": "49f3e8ea416743beae46266a55b8e848",
              "version_minor": 0,
              "version_major": 2
            },
            "text/plain": [
              "HBox(children=(FloatProgress(value=0.0, max=29515.0), HTML(value='')))"
            ]
          },
          "metadata": {
            "tags": []
          }
        },
        {
          "output_type": "stream",
          "text": [
            "\n",
            "Extracting data/FashionMNIST/raw/train-labels-idx1-ubyte.gz to data/FashionMNIST/raw\n",
            "\n",
            "Downloading http://fashion-mnist.s3-website.eu-central-1.amazonaws.com/t10k-images-idx3-ubyte.gz\n",
            "Downloading http://fashion-mnist.s3-website.eu-central-1.amazonaws.com/t10k-images-idx3-ubyte.gz to data/FashionMNIST/raw/t10k-images-idx3-ubyte.gz\n"
          ],
          "name": "stdout"
        },
        {
          "output_type": "display_data",
          "data": {
            "application/vnd.jupyter.widget-view+json": {
              "model_id": "65094c1257994a2caf6f84e292fa4728",
              "version_minor": 0,
              "version_major": 2
            },
            "text/plain": [
              "HBox(children=(FloatProgress(value=0.0, max=4422102.0), HTML(value='')))"
            ]
          },
          "metadata": {
            "tags": []
          }
        },
        {
          "output_type": "stream",
          "text": [
            "\n",
            "Extracting data/FashionMNIST/raw/t10k-images-idx3-ubyte.gz to data/FashionMNIST/raw\n",
            "\n",
            "Downloading http://fashion-mnist.s3-website.eu-central-1.amazonaws.com/t10k-labels-idx1-ubyte.gz\n",
            "Downloading http://fashion-mnist.s3-website.eu-central-1.amazonaws.com/t10k-labels-idx1-ubyte.gz to data/FashionMNIST/raw/t10k-labels-idx1-ubyte.gz\n"
          ],
          "name": "stdout"
        },
        {
          "output_type": "display_data",
          "data": {
            "application/vnd.jupyter.widget-view+json": {
              "model_id": "2c6be7ecc2ed41ab8bddf6105e34c799",
              "version_minor": 0,
              "version_major": 2
            },
            "text/plain": [
              "HBox(children=(FloatProgress(value=0.0, max=5148.0), HTML(value='')))"
            ]
          },
          "metadata": {
            "tags": []
          }
        },
        {
          "output_type": "stream",
          "text": [
            "\n",
            "Extracting data/FashionMNIST/raw/t10k-labels-idx1-ubyte.gz to data/FashionMNIST/raw\n",
            "\n"
          ],
          "name": "stdout"
        },
        {
          "output_type": "stream",
          "text": [
            "/usr/local/lib/python3.7/dist-packages/torchvision/datasets/mnist.py:498: UserWarning: The given NumPy array is not writeable, and PyTorch does not support non-writeable tensors. This means you can write to the underlying (supposedly non-writeable) NumPy array using the tensor. You may want to copy the array to protect its data or make it writeable before converting it to a tensor. This type of warning will be suppressed for the rest of this program. (Triggered internally at  /pytorch/torch/csrc/utils/tensor_numpy.cpp:180.)\n",
            "  return torch.from_numpy(parsed.astype(m[2], copy=False)).view(*s)\n"
          ],
          "name": "stderr"
        }
      ]
    },
    {
      "cell_type": "markdown",
      "metadata": {
        "id": "7Rmq0RjVHmCp"
      },
      "source": [
        "## **Visualising datasets**"
      ]
    },
    {
      "cell_type": "code",
      "metadata": {
        "colab": {
          "base_uri": "https://localhost:8080/",
          "height": 530
        },
        "id": "1npyRkixptkN",
        "outputId": "98921611-7cae-4f93-cd19-c76121babb60"
      },
      "source": [
        "dataiter = iter(training_data)\n",
        "images, labels = dataiter.next()\n",
        "\n",
        "print(images.shape)\n",
        "print(labels.shape)\n",
        "plt.imshow(images[15].squeeze(), cmap='Blues');\n",
        "figure = plt.figure()\n",
        "num_of_images = 100\n",
        "for i in range(1, num_of_images + 1):\n",
        "    plt.subplot(10, 10, i)\n",
        "    plt.axis('off')\n",
        "    plt.imshow(images[i].numpy().squeeze(), cmap='OrRd')"
      ],
      "execution_count": 3,
      "outputs": [
        {
          "output_type": "stream",
          "text": [
            "torch.Size([128, 1, 28, 28])\n",
            "torch.Size([128])\n"
          ],
          "name": "stdout"
        },
        {
          "output_type": "display_data",
          "data": {
            "image/png": "[encoded data removed]",
            "text/plain": [
              "<Figure size 432x288 with 1 Axes>"
            ]
          },
          "metadata": {
            "tags": [],
            "needs_background": "light"
          }
        },
        {
          "output_type": "display_data",
          "data": {
            "image/png": "[encoded data removed]",
            "text/plain": [
              "<Figure size 432x288 with 100 Axes>"
            ]
          },
          "metadata": {
            "tags": [],
            "needs_background": "light"
          }
        }
      ]
    },
    {
      "cell_type": "markdown",
      "metadata": {
        "id": "LypQZkPmH6Dr"
      },
      "source": [
        "###Checking the running device"
      ]
    },
    {
      "cell_type": "code",
      "metadata": {
        "id": "0588_jFmkikl",
        "colab": {
          "base_uri": "https://localhost:8080/"
        },
        "outputId": "8f158ac9-821e-4efd-bbe8-b855f2ddbfce"
      },
      "source": [
        "device=torch.device(\"cuda:0\" if torch.cuda.is_available() else \"cpu\")\n",
        "print(device)"
      ],
      "execution_count": 9,
      "outputs": [
        {
          "output_type": "stream",
          "text": [
            "cuda:0\n"
          ],
          "name": "stdout"
        }
      ]
    },
    {
      "cell_type": "markdown",
      "metadata": {
        "id": "pUWji_dPIGeV"
      },
      "source": [
        "##**Defining our Model**\n",
        "Building a class named Model. Using ReLU activvation function in the model & adding 4 layers ."
      ]
    },
    {
      "cell_type": "code",
      "metadata": {
        "colab": {
          "base_uri": "https://localhost:8080/"
        },
        "id": "j6tdFvzyl50r",
        "outputId": "c3c05dc6-381b-48fd-b71f-e499267342ff"
      },
      "source": [
        "class Model(nn.Module):\n",
        "\n",
        "  def __init__(self):\n",
        "\n",
        "    super().__init__()\n",
        "    self.step1 = nn.Linear(784, 256)      #Input features :28*28=784 --> Output features:256\n",
        "    self.step2 = nn.Linear(256, 128)      #Input features :256 --> Output features:128\n",
        "    self.step3 = nn.Linear(128, 64)       #Input features :128 --> Output features:64\n",
        "    self.step4 = nn.Linear(64, 10)        #Input features :64 --> Output features:10 (Bcz total number of ouput labels is 10)\n",
        "        \n",
        "  def forward(self, x):\n",
        "    x=self.step1(x)\n",
        "    x=F.relu(x)             #Activation function after each layer\n",
        "    x=self.step2(x)\n",
        "    x=F.relu(x)\n",
        "    x=self.step3(x)\n",
        "    x=F.relu(x)\n",
        "    x=self.step4(x)\n",
        "    x=F.relu(x)\n",
        "    x = F.log_softmax(x, dim=1)     #Applying softmax over the activated layer\n",
        "    return x\n",
        "model=Model()       \n",
        "model.to(device)      #Shifting our model to the current device.\n"
      ],
      "execution_count": 10,
      "outputs": [
        {
          "output_type": "execute_result",
          "data": {
            "text/plain": [
              "Model(\n",
              "  (step1): Linear(in_features=784, out_features=256, bias=True)\n",
              "  (step2): Linear(in_features=256, out_features=128, bias=True)\n",
              "  (step3): Linear(in_features=128, out_features=64, bias=True)\n",
              "  (step4): Linear(in_features=64, out_features=10, bias=True)\n",
              ")"
            ]
          },
          "metadata": {
            "tags": []
          },
          "execution_count": 10
        }
      ]
    },
    {
      "cell_type": "markdown",
      "metadata": {
        "id": "URstM2DuIT3-"
      },
      "source": [
        "##**Testing & Training Loop**"
      ]
    },
    {
      "cell_type": "code",
      "metadata": {
        "colab": {
          "base_uri": "https://localhost:8080/"
        },
        "id": "I4HogyJwl-xW",
        "outputId": "1dffc2a1-fdc6-4930-dbca-da94698b78bf"
      },
      "source": [
        "Accuracy=[]             # List to store the accuracy over epochs\n",
        "losses=[]               # List to store loss over epochs\n",
        "cost=nn.CrossEntropyLoss()    # Using CrossEntropyLoss to calculate loss \n",
        "optimizer=torch.optim.Adam(model.parameters(),lr=0.01)    #Using Adam optimizer\n",
        "epochs = 25  #Running over 25 epochs\n",
        "for e in range(epochs):\n",
        "    loss1=0\n",
        "    for images, labels in training_data:\n",
        "        \n",
        "        images = images.view(images.shape[0], -1)    #Flattening the input matrix into 1-d tensor\n",
        "        images=images.to(device)        #Shifting to device\n",
        "        labels=labels.to(device)\n",
        "    \n",
        "        # Training Loop\n",
        "        \n",
        "        output = model(images)        #Predicting the input according to model\n",
        "        #output=output.to(device)\n",
        "        loss = cost(output, labels)   #Calculating loss according to predicted output\n",
        "        optimizer.zero_grad()         \n",
        "        loss.backward()               #Optimizing \n",
        "        optimizer.step()\n",
        "        \n",
        "        loss1=loss.item()\n",
        "        \n",
        "    else:\n",
        "        print(\"Loss on epoch\",e+1,\":\",loss1)  #Printing Loss on each epoch\n",
        "        losses.append(loss1)          #Adding loss of each epoch to the list\n",
        "\n",
        "    #Calculating Accuracy over the test dataset\n",
        "\n",
        "    correct=0\n",
        "    total=0\n",
        "    for img,lbl in test_data:\n",
        "      img=img.to(device)\n",
        "      lbl=lbl.to(device)\n",
        "      img=img.view(img.shape[0],-1)\n",
        "      pred1=model(img)\n",
        "      _,pred=torch.max(pred1.data,1)     #Predicted Label \n",
        "      total+=lbl.size(0)\n",
        "      correct+=(pred==lbl).sum().item()\n",
        "    print(\"Accuracy on epoch\",e+1,\" \",correct/total)  #Printing Accuracy on each epoch\n",
        "    Accuracy.append(correct/total*100)                 #Adding accuracy to the list"
      ],
      "execution_count": 11,
      "outputs": [
        {
          "output_type": "stream",
          "text": [
            "Loss on epoch 1 : 0.6755732893943787\n",
            "Accuracy on epoch 1   0.6914\n",
            "Loss on epoch 2 : 0.9114149212837219\n",
            "Accuracy on epoch 2   0.6964\n",
            "Loss on epoch 3 : 0.6048408150672913\n",
            "Accuracy on epoch 3   0.7885\n",
            "Loss on epoch 4 : 0.5501075387001038\n",
            "Accuracy on epoch 4   0.7937\n",
            "Loss on epoch 5 : 0.6162876486778259\n",
            "Accuracy on epoch 5   0.7946\n",
            "Loss on epoch 6 : 0.678818941116333\n",
            "Accuracy on epoch 6   0.7983\n",
            "Loss on epoch 7 : 0.6692147850990295\n",
            "Accuracy on epoch 7   0.7991\n",
            "Loss on epoch 8 : 0.32053717970848083\n",
            "Accuracy on epoch 8   0.7991\n",
            "Loss on epoch 9 : 0.6088171601295471\n",
            "Accuracy on epoch 9   0.804\n",
            "Loss on epoch 10 : 0.6699827313423157\n",
            "Accuracy on epoch 10   0.7918\n",
            "Loss on epoch 11 : 0.4618898630142212\n",
            "Accuracy on epoch 11   0.8079\n",
            "Loss on epoch 12 : 0.27246978878974915\n",
            "Accuracy on epoch 12   0.8043\n",
            "Loss on epoch 13 : 0.5314223766326904\n",
            "Accuracy on epoch 13   0.8016\n",
            "Loss on epoch 14 : 0.5017155408859253\n",
            "Accuracy on epoch 14   0.7978\n",
            "Loss on epoch 15 : 0.5482032299041748\n",
            "Accuracy on epoch 15   0.7996\n",
            "Loss on epoch 16 : 0.6999757885932922\n",
            "Accuracy on epoch 16   0.7947\n",
            "Loss on epoch 17 : 0.38443055748939514\n",
            "Accuracy on epoch 17   0.8064\n",
            "Loss on epoch 18 : 0.5793163776397705\n",
            "Accuracy on epoch 18   0.8012\n",
            "Loss on epoch 19 : 0.3381470739841461\n",
            "Accuracy on epoch 19   0.805\n",
            "Loss on epoch 20 : 0.5900473594665527\n",
            "Accuracy on epoch 20   0.8057\n",
            "Loss on epoch 21 : 0.31102511286735535\n",
            "Accuracy on epoch 21   0.7976\n",
            "Loss on epoch 22 : 0.55552738904953\n",
            "Accuracy on epoch 22   0.8085\n",
            "Loss on epoch 23 : 0.5275915861129761\n",
            "Accuracy on epoch 23   0.7934\n",
            "Loss on epoch 24 : 0.4997085630893707\n",
            "Accuracy on epoch 24   0.797\n",
            "Loss on epoch 25 : 0.4926735460758209\n",
            "Accuracy on epoch 25   0.8086\n"
          ],
          "name": "stdout"
        }
      ]
    },
    {
      "cell_type": "markdown",
      "metadata": {
        "id": "2MaaXsL4LJ67"
      },
      "source": [
        "**The Accuracy obtained is 80.86%**"
      ]
    },
    {
      "cell_type": "markdown",
      "metadata": {
        "id": "_j1o-iGrK-96"
      },
      "source": [
        "##**Accuracy Plot**"
      ]
    },
    {
      "cell_type": "code",
      "metadata": {
        "colab": {
          "base_uri": "https://localhost:8080/",
          "height": 279
        },
        "id": "KzcgLg5TPFq2",
        "outputId": "26300eac-08ee-4027-842e-ad86439ac4e1"
      },
      "source": [
        "plt.plot(Accuracy)\n",
        "plt.xlabel(\"Epoch\")\n",
        "plt.ylabel(\"Accuracy\")\n",
        "plt.show()"
      ],
      "execution_count": 12,
      "outputs": [
        {
          "output_type": "display_data",
          "data": {
            "image/png": "[encoded data removed]",
            "text/plain": [
              "<Figure size 432x288 with 1 Axes>"
            ]
          },
          "metadata": {
            "tags": [],
            "needs_background": "light"
          }
        }
      ]
    },
    {
      "cell_type": "markdown",
      "metadata": {
        "id": "6iWJNz-2LDC8"
      },
      "source": [
        "##**Loss Plot**"
      ]
    },
    {
      "cell_type": "code",
      "metadata": {
        "colab": {
          "base_uri": "https://localhost:8080/",
          "height": 279
        },
        "id": "8MQ_hhLEQVJd",
        "outputId": "ad7c2f3b-6540-475a-ffe6-f8e08b4b5af6"
      },
      "source": [
        "plt.plot(losses)\n",
        "plt.xlabel(\"Epoch\")\n",
        "plt.ylabel(\"Loss\")\n",
        "plt.show()"
      ],
      "execution_count": 13,
      "outputs": [
        {
          "output_type": "display_data",
          "data": {
            "image/png": "[encoded data removed]",
            "text/plain": [
              "<Figure size 432x288 with 1 Axes>"
            ]
          },
          "metadata": {
            "tags": [],
            "needs_background": "light"
          }
        }
      ]
    },
    {
      "cell_type": "markdown",
      "metadata": {
        "id": "UK_qy8_uFJTU"
      },
      "source": [
        "##**Some more Analysis**"
      ]
    },
    {
      "cell_type": "markdown",
      "metadata": {
        "id": "gj1vtH7lBZbf"
      },
      "source": [
        "We have used CrossEntropyLoss and Adam optimizer in the above training loop . \n",
        "\n",
        "Now , Let us use some other loss functions and optimizers and observe the result ."
      ]
    },
    {
      "cell_type": "markdown",
      "metadata": {
        "id": "E1Qd8g68FQti"
      },
      "source": [
        "###**Using Negative Log likelihood loss(NLLLoss)**"
      ]
    },
    {
      "cell_type": "code",
      "metadata": {
        "colab": {
          "base_uri": "https://localhost:8080/"
        },
        "id": "l4zVr3EJFP57",
        "outputId": "0ab105fa-af52-434a-a20e-e2db553a80e7"
      },
      "source": [
        "Accuracy1=[]             # List to store the accuracy over epochs\n",
        "losses1=[]               # List to store loss over epochs\n",
        "cost=nn.NLLLoss()    # Using NLLLoss to calculate loss \n",
        "optimizer=torch.optim.Adam(model.parameters(),lr=0.01)    #Using Adam optimizer\n",
        "epochs = 25  #Running over 25 epochs\n",
        "for e in range(epochs):\n",
        "    loss1=0\n",
        "    for images, labels in training_data:\n",
        "        \n",
        "        images = images.view(images.shape[0], -1)    #Flattening the input matrix into 1-d tensor\n",
        "        images=images.to(device)        #Shifting to device\n",
        "        labels=labels.to(device)\n",
        "    \n",
        "        # Training Loop\n",
        "        \n",
        "        output = model(images)        #Predicting the input according to model\n",
        "        #output=output.to(device)\n",
        "        loss = cost(output, labels)   #Calculating loss according to predicted output\n",
        "        optimizer.zero_grad()         \n",
        "        loss.backward()               #Optimizing \n",
        "        optimizer.step()\n",
        "        \n",
        "        loss1=loss.item()\n",
        "        \n",
        "    else:\n",
        "        print(\"Loss on epoch\",e+1,\":\",loss1)  #Printing Loss on each epoch\n",
        "        losses1.append(loss1)          #Adding loss of each epoch to the list\n",
        "\n",
        "    #Calculating Accuracy over the test dataset\n",
        "\n",
        "    correct=0\n",
        "    total=0\n",
        "    for img,lbl in test_data:\n",
        "      img=img.to(device)\n",
        "      lbl=lbl.to(device)\n",
        "      img=img.view(img.shape[0],-1)\n",
        "      pred1=model(img)\n",
        "      _,pred=torch.max(pred1.data,1)     #Predicted Label \n",
        "      total+=lbl.size(0)\n",
        "      correct+=(pred==lbl).sum().item()\n",
        "    print(\"Accuracy on epoch\",e+1,\" \",correct/total)  #Printing Accuracy on each epoch\n",
        "    Accuracy1.append(correct/total*100)                 #Adding accuracy to the list"
      ],
      "execution_count": 19,
      "outputs": [
        {
          "output_type": "stream",
          "text": [
            "Loss on epoch 1 : 0.5378650426864624\n",
            "Accuracy on epoch 1   0.8022\n",
            "Loss on epoch 2 : 0.40973106026649475\n",
            "Accuracy on epoch 2   0.8092\n",
            "Loss on epoch 3 : 0.3582354784011841\n",
            "Accuracy on epoch 3   0.8061\n",
            "Loss on epoch 4 : 0.639229953289032\n",
            "Accuracy on epoch 4   0.7887\n",
            "Loss on epoch 5 : 0.3450636565685272\n",
            "Accuracy on epoch 5   0.7942\n",
            "Loss on epoch 6 : 0.41538020968437195\n",
            "Accuracy on epoch 6   0.7992\n",
            "Loss on epoch 7 : 0.4030156135559082\n",
            "Accuracy on epoch 7   0.8107\n",
            "Loss on epoch 8 : 0.4320674240589142\n",
            "Accuracy on epoch 8   0.7983\n",
            "Loss on epoch 9 : 0.28934186697006226\n",
            "Accuracy on epoch 9   0.8027\n",
            "Loss on epoch 10 : 0.533223569393158\n",
            "Accuracy on epoch 10   0.808\n",
            "Loss on epoch 11 : 0.5543920397758484\n",
            "Accuracy on epoch 11   0.8059\n",
            "Loss on epoch 12 : 0.28052350878715515\n",
            "Accuracy on epoch 12   0.8051\n",
            "Loss on epoch 13 : 0.46470940113067627\n",
            "Accuracy on epoch 13   0.8016\n",
            "Accuracy on epoch 14   0.7987\n",
            "Loss on epoch 15 : 0.40702638030052185\n",
            "Accuracy on epoch 15   0.7938\n",
            "Loss on epoch 16 : 0.5177710056304932\n",
            "Accuracy on epoch 16   0.8042\n",
            "Loss on epoch 17 : 0.5209581851959229\n",
            "Accuracy on epoch 17   0.8013\n",
            "Loss on epoch 18 : 0.44108691811561584\n",
            "Accuracy on epoch 18   0.809\n",
            "Loss on epoch 19 : 0.4802723824977875\n",
            "Accuracy on epoch 19   0.8045\n",
            "Loss on epoch 20 : 0.5253215432167053\n",
            "Accuracy on epoch 20   0.7982\n",
            "Loss on epoch 21 : 0.4857851266860962\n",
            "Accuracy on epoch 21   0.8004\n",
            "Loss on epoch 22 : 0.6789848208427429\n",
            "Accuracy on epoch 22   0.8078\n",
            "Loss on epoch 23 : 0.5083066821098328\n",
            "Accuracy on epoch 23   0.8064\n",
            "Loss on epoch 24 : 0.39295658469200134\n",
            "Accuracy on epoch 24   0.7906\n",
            "Loss on epoch 25 : 0.7196767330169678\n",
            "Accuracy on epoch 25   0.8072\n"
          ],
          "name": "stdout"
        }
      ]
    },
    {
      "cell_type": "code",
      "metadata": {
        "colab": {
          "base_uri": "https://localhost:8080/",
          "height": 279
        },
        "id": "NoPJxRDoGOMS",
        "outputId": "9610ce0b-d1c5-48d5-9eb0-34e7174d5695"
      },
      "source": [
        "plt.plot(Accuracy1,color=\"r\",label=\"CrossEntropyLoss()\")\n",
        "plt.plot(Accuracy,color=\"b\",label=\"NLLLoss()\")\n",
        "plt.legend()\n",
        "plt.xlabel(\"Epoch\")\n",
        "plt.ylabel(\"Accuracy \")\n",
        "plt.show()"
      ],
      "execution_count": 49,
      "outputs": [
        {
          "output_type": "display_data",
          "data": {
            "image/png": "[encoded data removed]",
            "text/plain": [
              "<Figure size 432x288 with 1 Axes>"
            ]
          },
          "metadata": {
            "tags": [],
            "needs_background": "light"
          }
        }
      ]
    },
    {
      "cell_type": "markdown",
      "metadata": {
        "id": "xm_TSwM5GbWT"
      },
      "source": [
        "So , we do not observe much difference between the accuracy between the two cases(CrossEntropy & Negative Log likelihood Loss functions) "
      ]
    },
    {
      "cell_type": "markdown",
      "metadata": {
        "id": "OUUV1cxgG6mp"
      },
      "source": [
        "Let's intoduce new layers in our model and observe the change in accuracy.\n",
        "\n",
        "We add two more layers in our model."
      ]
    },
    {
      "cell_type": "code",
      "metadata": {
        "colab": {
          "base_uri": "https://localhost:8080/"
        },
        "id": "4rlSPD5yGTyg",
        "outputId": "1b7ed2b4-4fca-4514-ac16-6e0866bdb952"
      },
      "source": [
        "class Model2(nn.Module):\n",
        "\n",
        "  def __init__(self):\n",
        "\n",
        "    super().__init__()\n",
        "    self.step1 = nn.Linear(784, 512)      #Input features :28*28=784 --> Output features:512\n",
        "    self.step2 = nn.Linear(512,256)       #Input features :512 --> Output features:256\n",
        "    self.step3=nn.Linear(256,128)         #Input features :256 --> Output features:128\n",
        "    self.step4 = nn.Linear(128, 64)       #Input features :128 --> Output features:64\n",
        "    self.step5 = nn.Linear(64, 32)        #Input features :64 --> Output features:32\n",
        "    self.step6 = nn.Linear(32, 10)        #Input features :64 --> Output features:10 (Bcz total number of ouput labels is 10)\n",
        "        \n",
        "  def forward(self, x):\n",
        "    x=self.step1(x)\n",
        "    x=F.relu(x)             #Activation function after each layer\n",
        "    x=self.step2(x)\n",
        "    x=F.relu(x)\n",
        "    x=self.step3(x)\n",
        "    x=F.relu(x)\n",
        "    x=self.step4(x)\n",
        "    x=F.relu(x)\n",
        "    x=self.step5(x)\n",
        "    x=F.relu(x)\n",
        "    x=self.step6(x)\n",
        "    x=F.relu(x)\n",
        "    x = F.log_softmax(x, dim=1)     #Applying softmax over the activated layer\n",
        "    return x\n",
        "model2=Model2()       \n",
        "model2.to(device)      #Shifting our model to the current device.\n"
      ],
      "execution_count": 35,
      "outputs": [
        {
          "output_type": "execute_result",
          "data": {
            "text/plain": [
              "Model2(\n",
              "  (step1): Linear(in_features=784, out_features=512, bias=True)\n",
              "  (step2): Linear(in_features=512, out_features=256, bias=True)\n",
              "  (step3): Linear(in_features=256, out_features=128, bias=True)\n",
              "  (step4): Linear(in_features=128, out_features=64, bias=True)\n",
              "  (step5): Linear(in_features=64, out_features=32, bias=True)\n",
              "  (step6): Linear(in_features=32, out_features=10, bias=True)\n",
              ")"
            ]
          },
          "metadata": {
            "tags": []
          },
          "execution_count": 35
        }
      ]
    },
    {
      "cell_type": "code",
      "metadata": {
        "colab": {
          "base_uri": "https://localhost:8080/"
        },
        "id": "KS0Om5UgI4rc",
        "outputId": "c6f52f3c-a702-464c-d0cf-acbd7a4fcacc"
      },
      "source": [
        "Accuracy3=[]             # List to store the accuracy over epochs\n",
        "losses3=[]               # List to store loss over epochs\n",
        "cost1=nn.CrossEntropyLoss()    # Using CrossEntropyLoss to calculate loss \n",
        "optimizer1=torch.optim.Adam(model.parameters(),lr=0.01)    #Using Adam optimizer\n",
        "epochs = 25  #Running over 25 epochs\n",
        "for e in range(epochs):\n",
        "    loss1=0\n",
        "    for images, labels in training_data:\n",
        "        \n",
        "        images = images.view(images.shape[0], -1)    #Flattening the input matrix into 1-d tensor\n",
        "        images=images.to(device)        #Shifting to device\n",
        "        labels=labels.to(device)\n",
        "    \n",
        "        # Training Loop\n",
        "        \n",
        "        output = model2(images)        #Predicting the input according to model\n",
        "        #output=output.to(device)\n",
        "        loss = cost1(output, labels)   #Calculating loss according to predicted output\n",
        "        optimizer1.zero_grad()         \n",
        "        loss.backward()               #Optimizing \n",
        "        optimizer1.step()\n",
        "        \n",
        "        loss1=loss.item()\n",
        "        \n",
        "    else:\n",
        "        print(\"Loss on epoch\",e+1,\":\",loss1)  #Printing Loss on each epoch\n",
        "        losses3.append(loss1)                 #Adding loss of each epoch to the list\n",
        "\n",
        "    #Calculating Accuracy over the test dataset\n",
        "\n",
        "    correct=0\n",
        "    total=0\n",
        "    for img,lbl in test_data:\n",
        "      img=img.to(device)\n",
        "      lbl=lbl.to(device)\n",
        "      img=img.view(img.shape[0],-1)\n",
        "      pred1=model2(img)\n",
        "      _,pred=torch.max(pred1.data,1)                    #Predicted Label \n",
        "      total+=lbl.size(0)\n",
        "      correct+=(pred==lbl).sum().item()\n",
        "    print(\"Accuracy on epoch\",e+1,\" \",correct/total)    #Printing Accuracy on each epoch\n",
        "    Accuracy3.append(correct/total*100)                 #Adding accuracy to the list"
      ],
      "execution_count": 44,
      "outputs": [
        {
          "output_type": "stream",
          "text": [
            "Loss on epoch 1 : 2.307703733444214\n",
            "Accuracy on epoch 1   0.1\n",
            "Loss on epoch 2 : 2.3044674396514893\n",
            "Accuracy on epoch 2   0.1\n",
            "Loss on epoch 3 : 2.2927908897399902\n",
            "Accuracy on epoch 3   0.1\n",
            "Loss on epoch 4 : 2.2973811626434326\n",
            "Accuracy on epoch 4   0.1\n",
            "Loss on epoch 5 : 2.3068978786468506\n",
            "Accuracy on epoch 5   0.1\n",
            "Loss on epoch 6 : 2.301058053970337\n",
            "Accuracy on epoch 6   0.1\n",
            "Loss on epoch 7 : 2.299079656600952\n",
            "Accuracy on epoch 7   0.1\n",
            "Loss on epoch 8 : 2.304283857345581\n",
            "Accuracy on epoch 8   0.1\n",
            "Loss on epoch 9 : 2.302225112915039\n",
            "Accuracy on epoch 9   0.1\n",
            "Loss on epoch 10 : 2.3075928688049316\n",
            "Accuracy on epoch 10   0.1\n",
            "Loss on epoch 11 : 2.304816484451294\n",
            "Accuracy on epoch 11   0.1\n",
            "Loss on epoch 12 : 2.3020823001861572\n",
            "Accuracy on epoch 12   0.1\n",
            "Loss on epoch 13 : 2.29866623878479\n",
            "Accuracy on epoch 13   0.1\n",
            "Loss on epoch 14 : 2.291781187057495\n",
            "Accuracy on epoch 14   0.1\n",
            "Loss on epoch 15 : 2.301050901412964\n",
            "Accuracy on epoch 15   0.1\n",
            "Accuracy on epoch 16   0.1\n",
            "Loss on epoch 17 : 2.3016300201416016\n",
            "Accuracy on epoch 17   0.1\n",
            "Loss on epoch 18 : 2.308197021484375\n",
            "Accuracy on epoch 18   0.1\n",
            "Loss on epoch 19 : 2.3038151264190674\n",
            "Accuracy on epoch 19   0.1\n",
            "Loss on epoch 20 : 2.3006045818328857\n",
            "Accuracy on epoch 20   0.1\n",
            "Loss on epoch 21 : 2.310976266860962\n",
            "Accuracy on epoch 21   0.1\n",
            "Loss on epoch 22 : 2.3061649799346924\n",
            "Accuracy on epoch 22   0.1\n",
            "Loss on epoch 23 : 2.3070712089538574\n",
            "Accuracy on epoch 23   0.1\n",
            "Loss on epoch 24 : 2.2970118522644043\n",
            "Accuracy on epoch 24   0.1\n",
            "Loss on epoch 25 : 2.3077352046966553\n",
            "Accuracy on epoch 25   0.1\n"
          ],
          "name": "stdout"
        }
      ]
    },
    {
      "cell_type": "code",
      "metadata": {
        "colab": {
          "base_uri": "https://localhost:8080/",
          "height": 279
        },
        "id": "7zeNDbeTR5L3",
        "outputId": "c08ae857-c9cb-489b-f9bd-94c997bd3576"
      },
      "source": [
        "plt.plot(Accuracy1,color=\"r\",label=\"Normal Model\")\n",
        "plt.plot(Accuracy3,color=\"b\",label=\"Model with increased layers\")\n",
        "plt.legend()\n",
        "plt.xlabel(\"Epoch\")\n",
        "plt.ylabel(\"Accuracy\")\n",
        "plt.show()"
      ],
      "execution_count": 48,
      "outputs": [
        {
          "output_type": "display_data",
          "data": {
            "image/png": "[encoded data removed]",
            "text/plain": [
              "<Figure size 432x288 with 1 Axes>"
            ]
          },
          "metadata": {
            "tags": [],
            "needs_background": "light"
          }
        }
      ]
    },
    {
      "cell_type": "code",
      "metadata": {
        "colab": {
          "base_uri": "https://localhost:8080/",
          "height": 279
        },
        "id": "W8gO2J_5TvAw",
        "outputId": "5eb86564-62b2-4ee1-9b96-c355aba5e12b"
      },
      "source": [
        "plt.plot(losses1,color=\"r\",label=\"Normal Model\")\n",
        "plt.plot(losses3,color=\"b\",label=\"Model with increased layers\")\n",
        "plt.legend()\n",
        "plt.xlabel(\"Epoch\")\n",
        "plt.ylabel(\"Loss\")\n",
        "plt.show()"
      ],
      "execution_count": 47,
      "outputs": [
        {
          "output_type": "display_data",
          "data": {
            "image/png": "[encoded data removed]",
            "text/plain": [
              "<Figure size 432x288 with 1 Axes>"
            ]
          },
          "metadata": {
            "tags": [],
            "needs_background": "light"
          }
        }
      ]
    },
    {
      "cell_type": "markdown",
      "metadata": {
        "id": "u8WuzcnFOe5-"
      },
      "source": [
        "We obtain an accuracy of **10%** , which is really very very low .\n",
        "Though at every epoch accuracy is same , I couldn't able to find out why .\n",
        "\n",
        "Even in the loss plot , the difference is uncomparable!\n",
        "\n",
        "Scientifically , researchers have observed that the deeper the network , our model would learn more features , hence it should produce better accuracy and the loss function should be minimised .\n",
        "\n",
        "But , researches showed that using deeper networks/models led to opposite results as it was expected . A new problem arise which was termed as **vanishing gradients** , i.e. using deeper networks the gradients diminish gradually(become very small) . To overcome such issues , researchers came up with a CNN named **Resnet** , which use the concept of **skip connections** to overcome this problem .\n",
        "\n",
        "Resnet research paper: https://arxiv.org/abs/1512.03385 .\n"
      ]
    }
  ]
}