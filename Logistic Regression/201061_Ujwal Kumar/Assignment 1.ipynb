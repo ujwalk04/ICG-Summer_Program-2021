{
  "nbformat": 4,
  "nbformat_minor": 0,
  "metadata": {
    "colab": {
      "name": "Logistic.ipynb",
      "provenance": [],
      "collapsed_sections": []
    },
    "kernelspec": {
      "name": "python3",
      "display_name": "Python 3"
    },
    "language_info": {
      "name": "python"
    },
    "accelerator": "GPU"
  },
  "cells": [
    {
      "cell_type": "markdown",
      "metadata": {
        "id": "8YHDukuXbNI2"
      },
      "source": [
        "# **ASSIGNMENT 1 - LOGISTIC REGRESSION**\n",
        "\n",
        "I have taken help through the following sources on the internet :\n",
        "\n",
        "\n",
        "*   https://www.youtube.com/watch?v=JDU3AzH3WKg\n",
        "*   https://www.youtube.com/watch?v=VCJdg7YBbAQ\n",
        "*   https://towardsdatascience.com/logistic-regression-from-scratch-in-python-ec66603592e2\n",
        " \n",
        "\n",
        "\n",
        "\n",
        "\n"
      ]
    },
    {
      "cell_type": "markdown",
      "metadata": {
        "id": "INayPe9SNx3d"
      },
      "source": [
        "## **Importing Libraries**\n",
        "\n",
        "\n",
        "\n",
        "\n",
        "\n",
        "\n",
        "\n",
        "\n"
      ]
    },
    {
      "cell_type": "code",
      "metadata": {
        "id": "groBO-CYqa3t"
      },
      "source": [
        "\n",
        "import numpy as np\n",
        "import matplotlib.pyplot as plt\n",
        "import pandas as pd\n",
        "import seaborn as sn\n"
      ],
      "execution_count": null,
      "outputs": []
    },
    {
      "cell_type": "markdown",
      "metadata": {
        "id": "5L3f6CuuOUma"
      },
      "source": [
        "## **Importing Datasets**"
      ]
    },
    {
      "cell_type": "code",
      "metadata": {
        "id": "zNCDiUibqhW7"
      },
      "source": [
        "dtrain=pd.read_csv('train.csv')"
      ],
      "execution_count": null,
      "outputs": []
    },
    {
      "cell_type": "code",
      "metadata": {
        "colab": {
          "base_uri": "https://localhost:8080/"
        },
        "id": "3CRFZ6GaMl4-",
        "outputId": "f11a3d0d-ec11-480e-b06d-645dc86ca51b"
      },
      "source": [
        "print(dtrain.head())"
      ],
      "execution_count": null,
      "outputs": [
        {
          "output_type": "stream",
          "text": [
            "   PassengerId  Survived  Pclass     Sex   Age  SibSp  Parch     Fare\n",
            "0            1         0       3    male  22.0      1      0   7.2500\n",
            "1            2         1       1  female  38.0      1      0  71.2833\n",
            "2            3         1       3  female  26.0      0      0   7.9250\n",
            "3            4         1       1  female  35.0      1      0  53.1000\n",
            "4            5         0       3    male  35.0      0      0   8.0500\n"
          ],
          "name": "stdout"
        }
      ]
    },
    {
      "cell_type": "code",
      "metadata": {
        "id": "WCTby8RKqlqT"
      },
      "source": [
        "dtest=pd.read_csv('test.csv')"
      ],
      "execution_count": null,
      "outputs": []
    },
    {
      "cell_type": "code",
      "metadata": {
        "id": "lrEzzP8trFPY",
        "colab": {
          "base_uri": "https://localhost:8080/"
        },
        "outputId": "03032450-68e1-44b3-fdf1-2180d725e502"
      },
      "source": [
        "print(dtest.head())"
      ],
      "execution_count": null,
      "outputs": [
        {
          "output_type": "stream",
          "text": [
            "   PassengerId  Survived  Pclass   Sex   Age  SibSp  Parch     Fare\n",
            "0          621         0       3  male  27.0      1      0  14.4542\n",
            "1          622         1       1  male  42.0      1      0  52.5542\n",
            "2          623         1       3  male  20.0      1      1  15.7417\n",
            "3          624         0       3  male  21.0      0      0   7.8542\n",
            "4          625         0       3  male  21.0      0      0  16.1000\n"
          ],
          "name": "stdout"
        }
      ]
    },
    {
      "cell_type": "code",
      "metadata": {
        "id": "wSMVjtdNtTsL",
        "colab": {
          "base_uri": "https://localhost:8080/"
        },
        "outputId": "b8e3e86b-c75f-41b0-9014-57d3bc509d17"
      },
      "source": [
        "dtrain.info()"
      ],
      "execution_count": null,
      "outputs": [
        {
          "output_type": "stream",
          "text": [
            "<class 'pandas.core.frame.DataFrame'>\n",
            "RangeIndex: 620 entries, 0 to 619\n",
            "Data columns (total 8 columns):\n",
            " #   Column       Non-Null Count  Dtype  \n",
            "---  ------       --------------  -----  \n",
            " 0   PassengerId  620 non-null    int64  \n",
            " 1   Survived     620 non-null    int64  \n",
            " 2   Pclass       620 non-null    int64  \n",
            " 3   Sex          620 non-null    object \n",
            " 4   Age          489 non-null    float64\n",
            " 5   SibSp        620 non-null    int64  \n",
            " 6   Parch        620 non-null    int64  \n",
            " 7   Fare         620 non-null    float64\n",
            "dtypes: float64(2), int64(5), object(1)\n",
            "memory usage: 38.9+ KB\n"
          ],
          "name": "stdout"
        }
      ]
    },
    {
      "cell_type": "markdown",
      "metadata": {
        "id": "zQPVuBkaM810"
      },
      "source": [
        "## **Analysing relationships between the output label and features**\n",
        "\n",
        "Idea taken from : https://www.youtube.com/watch?v=VCJdg7YBbAQ"
      ]
    },
    {
      "cell_type": "code",
      "metadata": {
        "colab": {
          "base_uri": "https://localhost:8080/"
        },
        "id": "nUbek4b3PgqC",
        "outputId": "602fe708-0f2f-4ceb-849c-5bd3bdb3a853"
      },
      "source": [
        "dtrain['Survived'].value_counts()"
      ],
      "execution_count": null,
      "outputs": [
        {
          "output_type": "execute_result",
          "data": {
            "text/plain": [
              "0    376\n",
              "1    244\n",
              "Name: Survived, dtype: int64"
            ]
          },
          "metadata": {
            "tags": []
          },
          "execution_count": 47
        }
      ]
    },
    {
      "cell_type": "markdown",
      "metadata": {
        "id": "icGlxCmXRqAi"
      },
      "source": [
        "\n",
        "\n",
        "*   Survived : 244\n",
        "*   Not Survived : 376\n",
        "\n"
      ]
    },
    {
      "cell_type": "code",
      "metadata": {
        "colab": {
          "base_uri": "https://localhost:8080/",
          "height": 279
        },
        "id": "OJ2W9FaMNjck",
        "outputId": "d0e93b62-c604-43c3-ccd0-fdfc6c95bc12"
      },
      "source": [
        "sn.countplot(x=\"Survived\",data=dtrain)\n",
        "plt.show()"
      ],
      "execution_count": null,
      "outputs": [
        {
          "output_type": "display_data",
          "data": {
            "image/png": "[encoded data removed]",
            "text/plain": [
              "<Figure size 432x288 with 1 Axes>"
            ]
          },
          "metadata": {
            "tags": [],
            "needs_background": "light"
          }
        }
      ]
    },
    {
      "cell_type": "markdown",
      "metadata": {
        "id": "mec_qYE3RN4T"
      },
      "source": [
        "### Survival Stats in different passenger classes "
      ]
    },
    {
      "cell_type": "code",
      "metadata": {
        "colab": {
          "base_uri": "https://localhost:8080/",
          "height": 279
        },
        "id": "3eAInu8CPTzE",
        "outputId": "d90f05b2-8db9-4f14-d1bc-f846ac505516"
      },
      "source": [
        "sn.countplot(x=\"Pclass\",hue=\"Survived\",data=dtrain)\n",
        "plt.show()"
      ],
      "execution_count": null,
      "outputs": [
        {
          "output_type": "display_data",
          "data": {
            "image/png": "[encoded data removed]",
            "text/plain": [
              "<Figure size 432x288 with 1 Axes>"
            ]
          },
          "metadata": {
            "tags": [],
            "needs_background": "light"
          }
        }
      ]
    },
    {
      "cell_type": "markdown",
      "metadata": {
        "id": "MhawNGBPTKNw"
      },
      "source": [
        "### Histogram depicting different ages of people"
      ]
    },
    {
      "cell_type": "code",
      "metadata": {
        "colab": {
          "base_uri": "https://localhost:8080/",
          "height": 265
        },
        "id": "8pdYNt9KSCX0",
        "outputId": "ff50ff5f-0615-431c-8b20-fb6f0e2efe30"
      },
      "source": [
        "dtrain['Age'].plot.hist()\n",
        "plt.show()"
      ],
      "execution_count": null,
      "outputs": [
        {
          "output_type": "display_data",
          "data": {
            "image/png": "[encoded data removed]",
            "text/plain": [
              "<Figure size 432x288 with 1 Axes>"
            ]
          },
          "metadata": {
            "tags": [],
            "needs_background": "light"
          }
        }
      ]
    },
    {
      "cell_type": "markdown",
      "metadata": {
        "id": "jBm76o1eTkJA"
      },
      "source": [
        "### Survival stats for male and female passengers"
      ]
    },
    {
      "cell_type": "code",
      "metadata": {
        "colab": {
          "base_uri": "https://localhost:8080/",
          "height": 279
        },
        "id": "2t6ec2XtSovp",
        "outputId": "c773a41e-2535-4cce-e67e-caea1ff7e49c"
      },
      "source": [
        "sn.countplot(x=\"Survived\",hue=\"Sex\",data=dtrain)\n",
        "plt.show()"
      ],
      "execution_count": null,
      "outputs": [
        {
          "output_type": "display_data",
          "data": {
            "image/png": "[encoded data removed]",
            "text/plain": [
              "<Figure size 432x288 with 1 Axes>"
            ]
          },
          "metadata": {
            "tags": [],
            "needs_background": "light"
          }
        }
      ]
    },
    {
      "cell_type": "markdown",
      "metadata": {
        "id": "75R3kbbvT8c5"
      },
      "source": [
        "## **Data Wrangling**"
      ]
    },
    {
      "cell_type": "code",
      "metadata": {
        "id": "DmbfIzSYtbak"
      },
      "source": [
        "dtest['Age'].fillna(dtest['Age'].mean(),inplace = True)\n",
        "\n",
        "dtrain['Age'].fillna(dtrain['Age'].mean(),inplace = True)"
      ],
      "execution_count": null,
      "outputs": []
    },
    {
      "cell_type": "code",
      "metadata": {
        "id": "T2aicpAwugdF"
      },
      "source": [
        "def sigmoid(x):\n",
        "  return 1/(1+np.exp(-x))"
      ],
      "execution_count": null,
      "outputs": []
    },
    {
      "cell_type": "code",
      "metadata": {
        "colab": {
          "base_uri": "https://localhost:8080/"
        },
        "id": "8ie2qMhLwFTr",
        "outputId": "bc59a512-e0ce-46a9-dd4f-d9515b4029b3"
      },
      "source": [
        "x=dtrain.drop(\"Survived\",axis=1)\n",
        "x=dtrain.drop(\"PassengerId\",axis=1)\n",
        "y=dtrain[\"Survived\"]\n",
        "\n",
        "\n",
        "\n",
        "x1=dtest.drop(\"Survived\",axis=1)\n",
        "x1=dtest.drop(\"PassengerId\",axis=1)\n",
        "y1=dtest[\"Survived\"]\n",
        "print(x1.shape)\n",
        "x1['Sex']=x1['Sex'].replace(['male','female'],[0,1])\n",
        "x['Sex']=x['Sex'].replace(['male','female'],[0,1])\n",
        "print(x.head())"
      ],
      "execution_count": null,
      "outputs": [
        {
          "output_type": "stream",
          "text": [
            "(271, 7)\n",
            "   Survived  Pclass  Sex   Age  SibSp  Parch     Fare\n",
            "0         0       3    0  22.0      1      0   7.2500\n",
            "1         1       1    1  38.0      1      0  71.2833\n",
            "2         1       3    1  26.0      0      0   7.9250\n",
            "3         1       1    1  35.0      1      0  53.1000\n",
            "4         0       3    0  35.0      0      0   8.0500\n"
          ],
          "name": "stdout"
        }
      ]
    },
    {
      "cell_type": "code",
      "metadata": {
        "id": "IkYAOR77wGwq",
        "colab": {
          "base_uri": "https://localhost:8080/"
        },
        "outputId": "63e071bd-29cd-423d-b326-8fcab52f2e81"
      },
      "source": [
        "print(x.shape)\n",
        "print(x.isnull().values.any())\n",
        "#x.dropna(inplace=True)\n",
        "print(x.isnull().values.any())"
      ],
      "execution_count": null,
      "outputs": [
        {
          "output_type": "stream",
          "text": [
            "(620, 7)\n",
            "False\n",
            "False\n"
          ],
          "name": "stdout"
        }
      ]
    },
    {
      "cell_type": "code",
      "metadata": {
        "id": "dcFmRCAUxrm4",
        "colab": {
          "base_uri": "https://localhost:8080/"
        },
        "outputId": "356bcf03-bf23-46d3-fabd-6b782fd06765"
      },
      "source": [
        "ns,nf=x.shape\n",
        "print(ns,nf)\n",
        "type(ns)"
      ],
      "execution_count": null,
      "outputs": [
        {
          "output_type": "stream",
          "text": [
            "620 7\n"
          ],
          "name": "stdout"
        },
        {
          "output_type": "execute_result",
          "data": {
            "text/plain": [
              "int"
            ]
          },
          "metadata": {
            "tags": []
          },
          "execution_count": 13
        }
      ]
    },
    {
      "cell_type": "markdown",
      "metadata": {
        "id": "THMg-xa-UD6p"
      },
      "source": [
        "## **Training our Model**"
      ]
    },
    {
      "cell_type": "code",
      "metadata": {
        "id": "GXq70c8QzDoG",
        "colab": {
          "base_uri": "https://localhost:8080/"
        },
        "outputId": "d8829fab-68a2-42d0-83f1-740cb9c138fc"
      },
      "source": [
        "#Training\n",
        "weights=np.random.randn(nf)    #initialising weights with random values\n",
        "print(weights.shape)            \n",
        "print(x.shape)\n",
        "b=0 #initialising bias\n",
        "\n",
        "rate=0.001          #learning rate\n",
        "epoch=50000         #total iterations\n",
        "\n",
        "for iteration in range(epoch):\n",
        "  inp=np.dot(x,weights)+b   #Finding input value to the sigmoid function \n",
        "\n",
        "  y_pred=sigmoid(inp)       #predicted value of input , lies in (0,1)\n",
        "  \n",
        "  dw= (1/ns)*(np.dot(x.T, (y_pred - y)))    #\n",
        "  db=(1/ns)*np.sum(y_pred-y)\n",
        "\n",
        "  weights-=dw*rate      #updating weights\n",
        "  b-=db*rate            #updating bias\n",
        "  loss=np.sum(-y*np.log(y_pred)- (1-y)*np.log(1-y_pred))    #finding loss according to the formula\n",
        "  loss/=ns\n",
        "  \n",
        "  if iteration%1000==0:\n",
        "    print(\"Epoch :\",iteration,\", Loss =\",loss)\n",
        "  \n",
        "  \n",
        "  \n",
        "  \n"
      ],
      "execution_count": null,
      "outputs": [
        {
          "output_type": "stream",
          "text": [
            "(7,)\n",
            "(620, 7)\n",
            "Epoch : 0 , Loss = 21.618884571891055\n"
          ],
          "name": "stdout"
        },
        {
          "output_type": "stream",
          "text": [
            "/usr/local/lib/python3.7/dist-packages/ipykernel_launcher.py:20: RuntimeWarning: divide by zero encountered in log\n"
          ],
          "name": "stderr"
        },
        {
          "output_type": "stream",
          "text": [
            "Epoch : 1000 , Loss = 1.182188984907052\n",
            "Epoch : 2000 , Loss = 0.9540516193788193\n",
            "Epoch : 3000 , Loss = 0.7658473059506816\n",
            "Epoch : 4000 , Loss = 0.6143287263145539\n",
            "Epoch : 5000 , Loss = 0.4958160811237985\n",
            "Epoch : 6000 , Loss = 0.4075679872707515\n",
            "Epoch : 7000 , Loss = 0.34609678192377674\n",
            "Epoch : 8000 , Loss = 0.3049560478618714\n",
            "Epoch : 9000 , Loss = 0.2765688594383784\n",
            "Epoch : 10000 , Loss = 0.25535122424428647\n",
            "Epoch : 11000 , Loss = 0.23833735515736812\n",
            "Epoch : 12000 , Loss = 0.2240865010192828\n",
            "Epoch : 13000 , Loss = 0.211838125551096\n",
            "Epoch : 14000 , Loss = 0.2011336127719509\n",
            "Epoch : 15000 , Loss = 0.1916637862956004\n",
            "Epoch : 16000 , Loss = 0.18320434054551032\n",
            "Epoch : 17000 , Loss = 0.17558519100435566\n",
            "Epoch : 18000 , Loss = 0.16867383623228857\n",
            "Epoch : 19000 , Loss = 0.1623651752916416\n",
            "Epoch : 20000 , Loss = 0.15657470391384046\n",
            "Epoch : 21000 , Loss = 0.15123370449601278\n",
            "Epoch : 22000 , Loss = 0.14628572716428098\n",
            "Epoch : 23000 , Loss = 0.1416839603505384\n",
            "Epoch : 24000 , Loss = 0.13738923807840758\n",
            "Epoch : 25000 , Loss = 0.13336851369069125\n",
            "Epoch : 26000 , Loss = 0.12959368037744998\n",
            "Epoch : 27000 , Loss = 0.12604065226069674\n",
            "Epoch : 28000 , Loss = 0.12268864287727214\n",
            "Epoch : 29000 , Loss = 0.11951959431688129\n",
            "Epoch : 30000 , Loss = 0.11651772214540299\n",
            "Epoch : 31000 , Loss = 0.11366914992517986\n",
            "Epoch : 32000 , Loss = 0.11096161354111903\n",
            "Epoch : 33000 , Loss = 0.1083842202846096\n",
            "Epoch : 34000 , Loss = 0.10592725118384136\n",
            "Epoch : 35000 , Loss = 0.10358199772029648\n",
            "Epoch : 36000 , Loss = 0.10134062606942074\n",
            "Epoch : 37000 , Loss = 0.09919606351788025\n",
            "Epoch : 38000 , Loss = 0.097141902863941\n",
            "Epoch : 39000 , Loss = 0.09517232149211877\n",
            "Epoch : 40000 , Loss = 0.09328201249515042\n",
            "Epoch : 41000 , Loss = 0.09146612574505313\n",
            "Epoch : 42000 , Loss = 0.08972021722733939\n",
            "Epoch : 43000 , Loss = 0.08804020527583499\n",
            "Epoch : 44000 , Loss = 0.08642233260061481\n",
            "Epoch : 45000 , Loss = 0.08486313320392827\n",
            "Epoch : 46000 , Loss = 0.08335940344036098\n",
            "Epoch : 47000 , Loss = 0.08190817660693098\n",
            "Epoch : 48000 , Loss = 0.08050670055317147\n",
            "Epoch : 49000 , Loss = 0.079152417885815\n"
          ],
          "name": "stdout"
        }
      ]
    },
    {
      "cell_type": "markdown",
      "metadata": {
        "id": "sk-XuzlyUKe6"
      },
      "source": [
        "## **Prediction over test dataset**"
      ]
    },
    {
      "cell_type": "code",
      "metadata": {
        "colab": {
          "base_uri": "https://localhost:8080/"
        },
        "id": "UjGLj50t6Rxo",
        "outputId": "37ab03fa-a796-408f-fb54-ca9bb7ab175d"
      },
      "source": [
        "#Prediction\n",
        "test = np.dot(x1,weights)+b  \n",
        "y_pred1 = sigmoid(test)       #predicting over test dataset with calculated weights and bias\n",
        "out=[]                        #creating an empty list\n",
        "for i in y_pred1:\n",
        "  if(i>0.5):                  #Similar to probability , if sigmoid returns >0.5 then survived else not survived\n",
        "    out.append(1)\n",
        "  else:\n",
        "    out.append(0)\n",
        "print(y_pred1.shape)\n",
        "print(np.array(out))\n",
        "out[268]\n",
        "v=y1.to_numpy()\n",
        "#print(v)"
      ],
      "execution_count": null,
      "outputs": [
        {
          "output_type": "stream",
          "text": [
            "(271,)\n",
            "[0 1 1 0 0 0 0 1 0 0 1 0 1 0 0 1 0 0 0 0 0 1 0 1 1 1 0 1 0 1 0 1 0 1 0 0 0\n",
            " 0 0 0 1 0 0 0 1 0 0 0 0 1 1 0 0 1 0 0 0 1 0 1 0 1 0 0 0 0 0 0 0 1 1 1 1 0\n",
            " 0 0 0 1 0 0 1 1 0 0 0 0 1 1 1 1 1 0 1 0 0 0 1 1 0 0 1 0 0 0 1 0 1 1 0 0 1\n",
            " 0 0 0 0 0 0 1 0 0 1 0 1 0 1 0 0 1 0 0 1 1 0 0 1 1 0 0 0 1 0 0 1 1 0 1 0 0\n",
            " 0 0 0 0 0 0 1 0 0 1 0 1 1 1 0 0 0 0 1 0 1 0 0 0 0 0 0 0 1 1 0 0 0 1 1 1 1\n",
            " 0 0 0 0 1 0 0 0 0 0 0 0 0 0 0 1 1 0 1 0 0 0 1 1 1 1 1 0 0 0 1 0 0 1 1 0 0\n",
            " 1 0 0 0 0 0 0 1 0 0 0 1 0 1 1 1 1 0 0 0 1 0 0 1 1 0 0 1 0 1 0 0 1 1 0 0 0\n",
            " 1 1 0 0 0 0 0 0 1 0 1 0]\n"
          ],
          "name": "stdout"
        }
      ]
    },
    {
      "cell_type": "markdown",
      "metadata": {
        "id": "So-Cq0p_UY42"
      },
      "source": [
        "## **Calculating Accuracy & F1 score**"
      ]
    },
    {
      "cell_type": "code",
      "metadata": {
        "colab": {
          "base_uri": "https://localhost:8080/"
        },
        "id": "oXi1eaYJ7xoV",
        "outputId": "3222d151-fba9-424b-de5c-1e1da9d9d558"
      },
      "source": [
        "def accuracy(y_true, y_pred):\n",
        "    accuracy = np.sum(y_true == y_pred) / len(y_true)\n",
        "    return accuracy\n",
        "#plt.scatter(x1,y1,'r')\n",
        "#plt.scatter(x1,out,'b')\n",
        "#plt.show()\n",
        "print(\"The accuracy obtained after testing :\" ,accuracy(y1,out)*100)\n"
      ],
      "execution_count": null,
      "outputs": [
        {
          "output_type": "stream",
          "text": [
            "The accuracy obtained after testing : 100.0\n"
          ],
          "name": "stdout"
        }
      ]
    },
    {
      "cell_type": "code",
      "metadata": {
        "id": "Tazga4jn0-3h"
      },
      "source": [
        "def compute(y1,y2):\n",
        "  tneg=0          #true negative ( expected value = 0 and predicted value=0 )\n",
        "  tpos=0          #true positive ( expected value = 1 and predicted value=1 )\n",
        "  fpos=0          #false positive ( expected value = 0 and predicted value=1 )\n",
        "  fneg=0          #false negative ( expected value = 1 and predicted value=0 )\n",
        "  for i in range(271):\n",
        "    \n",
        "    if(y1[i]==0 and y2[i]==0):\n",
        "      tneg+=1\n",
        "    elif(y1[i]==0 and y2[i]==1):\n",
        "      fpos+=1\n",
        "    elif(y1[i]==1 and y2[i]==0):\n",
        "      fneg+=1\n",
        "    else:\n",
        "      tpos+=1\n",
        "\n",
        "  return tpos,tneg,fpos,fneg\n",
        "\n",
        "def precision(true_positive,false_positive):\n",
        "  return (true_positive*100)/(true_positive+false_positive)\n",
        "def recall(true_positive,false_negative):\n",
        "  return (true_positive*100)/(true_positive+false_negative)\n",
        "def f1_score(precision,recall):\n",
        "  return (2*(precision*recall))/(precision+recall)"
      ],
      "execution_count": null,
      "outputs": []
    },
    {
      "cell_type": "code",
      "metadata": {
        "id": "EtopdTbHnUEI",
        "colab": {
          "base_uri": "https://localhost:8080/"
        },
        "outputId": "528bd740-886f-400a-b4d3-de31cbc4c8a0"
      },
      "source": [
        "#Finding out values\n",
        "true_positive , true_negative , false_positive , false_negative = compute(v,out)[0] , compute(v,out)[1] , compute(v,out)[2] , compute(v,out)[3]\n",
        "precision = precision(true_positive , false_positive)   #Calculating precision\n",
        "recall=recall(true_positive,false_negative)           #Calculating recall\n",
        "print(\"F1 Score is : \",f1_score(precision,recall))"
      ],
      "execution_count": null,
      "outputs": [
        {
          "output_type": "stream",
          "text": [
            "F1 Score is :  100.0\n"
          ],
          "name": "stdout"
        }
      ]
    },
    {
      "cell_type": "code",
      "metadata": {
        "id": "vmoYMrRqhH92"
      },
      "source": [
        ""
      ],
      "execution_count": null,
      "outputs": []
    }
  ]
}