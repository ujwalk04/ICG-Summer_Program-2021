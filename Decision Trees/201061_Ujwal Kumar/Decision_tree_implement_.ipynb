{
  "nbformat": 4,
  "nbformat_minor": 0,
  "metadata": {
    "colab": {
      "name": "Decision_tree_implement .ipynb",
      "provenance": [],
      "collapsed_sections": []
    },
    "kernelspec": {
      "name": "python3",
      "display_name": "Python 3"
    },
    "language_info": {
      "name": "python"
    },
    "accelerator": "GPU"
  },
  "cells": [
    {
      "cell_type": "markdown",
      "metadata": {
        "id": "8YHDukuXbNI2"
      },
      "source": [
        "# **ASSIGNMENT 2 - DECISION TREES**\n",
        "\n",
        "I have taken help through the following sources on the internet :\n",
        "\n",
        "\n",
        "*   https://www.youtube.com/watch?v=74jW6UkDBig\n",
        "*  https://towardsdatascience.com/decision-trees-for-classification-id3-algorithm-explained-89df76e72df1\n",
        " "
      ]
    },
    {
      "cell_type": "markdown",
      "metadata": {
        "id": "INayPe9SNx3d"
      },
      "source": [
        "## **Importing Libraries**\n",
        "\n",
        "\n",
        "\n",
        "\n",
        "\n",
        "\n",
        "\n",
        "\n"
      ]
    },
    {
      "cell_type": "code",
      "metadata": {
        "id": "groBO-CYqa3t"
      },
      "source": [
        "\n",
        "import numpy as np\n",
        "import matplotlib.pyplot as plt\n",
        "import pandas as pd\n",
        "import seaborn as sn\n"
      ],
      "execution_count": 2,
      "outputs": []
    },
    {
      "cell_type": "markdown",
      "metadata": {
        "id": "5L3f6CuuOUma"
      },
      "source": [
        "## **Importing Datasets**"
      ]
    },
    {
      "cell_type": "code",
      "metadata": {
        "id": "zNCDiUibqhW7"
      },
      "source": [
        "dtrain=pd.read_csv('train.csv')"
      ],
      "execution_count": 3,
      "outputs": []
    },
    {
      "cell_type": "code",
      "metadata": {
        "colab": {
          "base_uri": "https://localhost:8080/"
        },
        "id": "3CRFZ6GaMl4-",
        "outputId": "f4f5cfd7-34a7-4474-a2f2-20149969eb17"
      },
      "source": [
        "print(dtrain.head())"
      ],
      "execution_count": 4,
      "outputs": [
        {
          "output_type": "stream",
          "text": [
            "   PassengerId  Survived  Pclass     Sex   Age  SibSp  Parch     Fare\n",
            "0            1         0       3    male  22.0      1      0   7.2500\n",
            "1            2         1       1  female  38.0      1      0  71.2833\n",
            "2            3         1       3  female  26.0      0      0   7.9250\n",
            "3            4         1       1  female  35.0      1      0  53.1000\n",
            "4            5         0       3    male  35.0      0      0   8.0500\n"
          ],
          "name": "stdout"
        }
      ]
    },
    {
      "cell_type": "code",
      "metadata": {
        "id": "WCTby8RKqlqT"
      },
      "source": [
        "dtest=pd.read_csv('test.csv')"
      ],
      "execution_count": 5,
      "outputs": []
    },
    {
      "cell_type": "code",
      "metadata": {
        "id": "lrEzzP8trFPY",
        "colab": {
          "base_uri": "https://localhost:8080/"
        },
        "outputId": "e2e08ea5-bc5c-421e-d42e-a310a6fe10e5"
      },
      "source": [
        "print(dtest.head())"
      ],
      "execution_count": 6,
      "outputs": [
        {
          "output_type": "stream",
          "text": [
            "   PassengerId  Survived  Pclass   Sex   Age  SibSp  Parch     Fare\n",
            "0          621         0       3  male  27.0      1      0  14.4542\n",
            "1          622         1       1  male  42.0      1      0  52.5542\n",
            "2          623         1       3  male  20.0      1      1  15.7417\n",
            "3          624         0       3  male  21.0      0      0   7.8542\n",
            "4          625         0       3  male  21.0      0      0  16.1000\n"
          ],
          "name": "stdout"
        }
      ]
    },
    {
      "cell_type": "code",
      "metadata": {
        "id": "wSMVjtdNtTsL",
        "colab": {
          "base_uri": "https://localhost:8080/"
        },
        "outputId": "b2c21c69-440e-4d22-904a-da56bef70d05"
      },
      "source": [
        "dtrain.info()"
      ],
      "execution_count": 7,
      "outputs": [
        {
          "output_type": "stream",
          "text": [
            "<class 'pandas.core.frame.DataFrame'>\n",
            "RangeIndex: 620 entries, 0 to 619\n",
            "Data columns (total 8 columns):\n",
            " #   Column       Non-Null Count  Dtype  \n",
            "---  ------       --------------  -----  \n",
            " 0   PassengerId  620 non-null    int64  \n",
            " 1   Survived     620 non-null    int64  \n",
            " 2   Pclass       620 non-null    int64  \n",
            " 3   Sex          620 non-null    object \n",
            " 4   Age          489 non-null    float64\n",
            " 5   SibSp        620 non-null    int64  \n",
            " 6   Parch        620 non-null    int64  \n",
            " 7   Fare         620 non-null    float64\n",
            "dtypes: float64(2), int64(5), object(1)\n",
            "memory usage: 38.9+ KB\n"
          ],
          "name": "stdout"
        }
      ]
    },
    {
      "cell_type": "markdown",
      "metadata": {
        "id": "zQPVuBkaM810"
      },
      "source": [
        "## **Analysing relationships between the Surviveded label and features**\n",
        "\n",
        "Idea taken from : https://www.youtube.com/watch?v=VCJdg7YBbAQ"
      ]
    },
    {
      "cell_type": "code",
      "metadata": {
        "colab": {
          "base_uri": "https://localhost:8080/"
        },
        "id": "nUbek4b3PgqC",
        "outputId": "61675958-857b-42d6-b3f1-38241bca81ab"
      },
      "source": [
        "dtrain['Survived'].value_counts()"
      ],
      "execution_count": 8,
      "outputs": [
        {
          "output_type": "execute_result",
          "data": {
            "text/plain": [
              "0    376\n",
              "1    244\n",
              "Name: Survived, dtype: int64"
            ]
          },
          "metadata": {
            "tags": []
          },
          "execution_count": 8
        }
      ]
    },
    {
      "cell_type": "markdown",
      "metadata": {
        "id": "icGlxCmXRqAi"
      },
      "source": [
        "\n",
        "\n",
        "*   Survived : 244\n",
        "*   Not Survived : 376\n",
        "\n"
      ]
    },
    {
      "cell_type": "code",
      "metadata": {
        "colab": {
          "base_uri": "https://localhost:8080/",
          "height": 279
        },
        "id": "OJ2W9FaMNjck",
        "outputId": "35735bb0-3c84-4dd2-c9af-850dccccb053"
      },
      "source": [
        "sn.countplot(x=\"Survived\",data=dtrain)\n",
        "plt.show()"
      ],
      "execution_count": 9,
      "outputs": [
        {
          "output_type": "display_data",
          "data": {
            "image/png": "[encoded data removed]",
            "text/plain": [
              "<Figure size 432x288 with 1 Axes>"
            ]
          },
          "metadata": {
            "tags": [],
            "needs_background": "light"
          }
        }
      ]
    },
    {
      "cell_type": "markdown",
      "metadata": {
        "id": "mec_qYE3RN4T"
      },
      "source": [
        "### Survival Stats in different passenger classes "
      ]
    },
    {
      "cell_type": "code",
      "metadata": {
        "colab": {
          "base_uri": "https://localhost:8080/",
          "height": 279
        },
        "id": "3eAInu8CPTzE",
        "outputId": "da20ca2a-dae9-442f-de65-a57408c2c32c"
      },
      "source": [
        "sn.countplot(x=\"Pclass\",hue=\"Survived\",data=dtrain)\n",
        "plt.show()"
      ],
      "execution_count": 10,
      "outputs": [
        {
          "output_type": "display_data",
          "data": {
            "image/png": "[encoded data removed]",
            "text/plain": [
              "<Figure size 432x288 with 1 Axes>"
            ]
          },
          "metadata": {
            "tags": [],
            "needs_background": "light"
          }
        }
      ]
    },
    {
      "cell_type": "markdown",
      "metadata": {
        "id": "MhawNGBPTKNw"
      },
      "source": [
        "### Histogram depicting different ages of people"
      ]
    },
    {
      "cell_type": "code",
      "metadata": {
        "colab": {
          "base_uri": "https://localhost:8080/",
          "height": 265
        },
        "id": "8pdYNt9KSCX0",
        "outputId": "c8769068-3d0c-4911-a8ce-f0bfbeda6a9f"
      },
      "source": [
        "dtrain['Age'].plot.hist()\n",
        "plt.show()"
      ],
      "execution_count": 11,
      "outputs": [
        {
          "output_type": "display_data",
          "data": {
            "image/png": "[encoded data removed]",
            "text/plain": [
              "<Figure size 432x288 with 1 Axes>"
            ]
          },
          "metadata": {
            "tags": [],
            "needs_background": "light"
          }
        }
      ]
    },
    {
      "cell_type": "markdown",
      "metadata": {
        "id": "jBm76o1eTkJA"
      },
      "source": [
        "### Survival stats for male and female passengers"
      ]
    },
    {
      "cell_type": "code",
      "metadata": {
        "colab": {
          "base_uri": "https://localhost:8080/",
          "height": 279
        },
        "id": "2t6ec2XtSovp",
        "outputId": "d454f091-ec97-470b-b867-991616888428"
      },
      "source": [
        "sn.countplot(x=\"Survived\",hue=\"Sex\",data=dtrain)\n",
        "plt.show()"
      ],
      "execution_count": 12,
      "outputs": [
        {
          "output_type": "display_data",
          "data": {
            "image/png": "[encoded data removed]",
            "text/plain": [
              "<Figure size 432x288 with 1 Axes>"
            ]
          },
          "metadata": {
            "tags": [],
            "needs_background": "light"
          }
        }
      ]
    },
    {
      "cell_type": "markdown",
      "metadata": {
        "id": "75R3kbbvT8c5"
      },
      "source": [
        "## **Data Wrangling**"
      ]
    },
    {
      "cell_type": "code",
      "metadata": {
        "id": "DmbfIzSYtbak"
      },
      "source": [
        "dtest['Age'].fillna(dtest['Age'].mean(),inplace = True)\n",
        "\n",
        "dtrain['Age'].fillna(dtrain['Age'].mean(),inplace = True)"
      ],
      "execution_count": 23,
      "outputs": []
    },
    {
      "cell_type": "code",
      "metadata": {
        "id": "T2aicpAwugdF"
      },
      "source": [
        "def sigmoid(x):\n",
        "  return 1/(1+np.exp(-x))"
      ],
      "execution_count": 14,
      "outputs": []
    },
    {
      "cell_type": "code",
      "metadata": {
        "colab": {
          "base_uri": "https://localhost:8080/"
        },
        "id": "8ie2qMhLwFTr",
        "outputId": "dd479a0c-1c8a-4313-a3fa-510d991b495e"
      },
      "source": [
        "x=dtrain.drop(\"Survived\",axis=1)\n",
        "x=dtrain.drop(\"PassengerId\",axis=1)\n",
        "y=dtrain[\"Survived\"]\n",
        "\n",
        "\n",
        "\n",
        "x1=dtest.drop(\"Survived\",axis=1)\n",
        "x1=dtest.drop(\"PassengerId\",axis=1)\n",
        "y1=dtest[\"Survived\"]\n",
        "print(x1.shape)\n",
        "x1['Sex']=x1['Sex'].replace(['male','female'],[0,1])\n",
        "x['Sex']=x['Sex'].replace(['male','female'],[0,1])\n",
        "print(x.head())"
      ],
      "execution_count": 15,
      "outputs": [
        {
          "output_type": "stream",
          "text": [
            "(271, 7)\n",
            "   Survived  Pclass  Sex   Age  SibSp  Parch     Fare\n",
            "0         0       3    0  22.0      1      0   7.2500\n",
            "1         1       1    1  38.0      1      0  71.2833\n",
            "2         1       3    1  26.0      0      0   7.9250\n",
            "3         1       1    1  35.0      1      0  53.1000\n",
            "4         0       3    0  35.0      0      0   8.0500\n"
          ],
          "name": "stdout"
        }
      ]
    },
    {
      "cell_type": "code",
      "metadata": {
        "id": "IkYAOR77wGwq",
        "colab": {
          "base_uri": "https://localhost:8080/"
        },
        "outputId": "9e51451c-a143-455e-9a83-bbdd29acec5f"
      },
      "source": [
        "\n",
        "\n",
        "print(x.shape)\n",
        "print(x.isnull().values.any())\n",
        "#x.dropna(inplace=True)\n",
        "print(x.isnull().values.any())\n",
        "y1.shape"
      ],
      "execution_count": 51,
      "outputs": [
        {
          "output_type": "stream",
          "text": [
            "(620, 7)\n",
            "False\n",
            "False\n"
          ],
          "name": "stdout"
        },
        {
          "output_type": "execute_result",
          "data": {
            "text/plain": [
              "(271,)"
            ]
          },
          "metadata": {
            "tags": []
          },
          "execution_count": 51
        }
      ]
    },
    {
      "cell_type": "code",
      "metadata": {
        "id": "dcFmRCAUxrm4"
      },
      "source": [
        "dtrain.head()\n",
        "dtrain['Sex']=dtrain['Sex'].replace(['male','female'],[0,1])\n",
        "dtest['Sex']=dtest['Sex'].replace(['male','female'],[0,1])"
      ],
      "execution_count": 25,
      "outputs": []
    },
    {
      "cell_type": "markdown",
      "metadata": {
        "id": "THMg-xa-UD6p"
      },
      "source": [
        "## **Training & Testing our Model**"
      ]
    },
    {
      "cell_type": "code",
      "metadata": {
        "id": "olMZC73BJGH6"
      },
      "source": [
        "\n",
        "def entropy(feature):\n",
        "    elements,counts = np.unique(feature,return_counts = True) \n",
        "    ent=0\n",
        "    for i in range(len(elements)):                                                            \n",
        "        ent += (-counts[i]/np.sum(counts))*np.log2(counts[i]/np.sum(counts))    # Calculating entropy \n",
        "    return ent\n",
        "\n",
        "def split(x_data,feats,threshold):\n",
        "    x_right = pd.DataFrame([],columns=x_data.columns)\n",
        "    x_left = pd.DataFrame([],columns=x_data.columns)\n",
        "    for ix in range(x_data.shape[0]):                                            #Splitting rows in feature according to threshold value\n",
        "        val = x_data[feats].loc[ix]\n",
        "        if val >=threshold:\n",
        "            x_right = x_right.append(x_data.iloc[ix])\n",
        "        else:\n",
        "            x_left = x_left.append(x_data.iloc[ix])\n",
        "    return x_right,x_left\n",
        "\n",
        "\n",
        "def information_gain(x_data,feats,threshold):\n",
        "    right,left = split(x_data,feats,threshold)\n",
        "                                                                                #Calculating Information Gain\n",
        "    l = float(left.shape[0])/x_data.shape[0]\n",
        "    r = float(right.shape[0])/x_data.shape[0]\n",
        "    if left.shape[0] == 0 or right.shape[0] == 0:\n",
        "        return -99999\n",
        "    i_gain = entropy(x_data.Survived) - (l * entropy(left.Survived) + r*entropy(right.Survived))\n",
        "    return i_gain\n"
      ],
      "execution_count": 40,
      "outputs": []
    },
    {
      "cell_type": "code",
      "metadata": {
        "id": "CaAX9AV7J4xH"
      },
      "source": [
        "class DecisionTree:\n",
        "    def __init__(self,depth=0,max_depth=5):\n",
        "        self.left = None\n",
        "        self.right = None                                             #Initialising the class\n",
        "        self.feats = None\n",
        "        self.threshold = None\n",
        "        self.depth = depth\n",
        "        self.max_depth = max_depth\n",
        "        self.target = None\n",
        "    def train(self,x_train):\n",
        "        features = ['Pclass', 'Age', 'Parch', 'Sex','SibSp']             # Features present in our dataset\n",
        "        info_gains = []\n",
        "        for ix in features:\n",
        "            i_gain = information_gain(x_train,ix,x_train[ix].mean())     #Calculating information gain of each feature and adding all values to a list\n",
        "            info_gains.append(i_gain)\n",
        "        self.feats = features[np.argmax(info_gains)]                     #Finding out the feature with maximum information gain\n",
        "        self.threshold = x_train[self.feats].mean()                      #Calculating threshold value\n",
        "        print(\"Splitting Tree\",self.feats)\n",
        "        data_right,data_left = split(x_train,self.feats,self.threshold)   #Splitting data\n",
        "        data_right = data_right.reset_index(drop=True)                    #Reset the indexes\n",
        "        data_left = data_left.reset_index(drop=True)\n",
        "        if data_left.shape[0] == 0 or data_right.shape[0] == 0:              #Base Case for recursion\n",
        "            if x_train.Survived.mean() >= 0.5: \n",
        "                self.target = 1                                               #If Survived , we take value as 1 , else 0 .\n",
        "            else:                                                                       \n",
        "                self.target = 0\n",
        "            return\n",
        "        if self.depth >= self.max_depth:                                     #Base Case for recursion\n",
        "            if x_train.Survived.mean() >= 0.5:\n",
        "                self.target = 1\n",
        "            else:\n",
        "                self.target = 0\n",
        "            return\n",
        "        self.left = DecisionTree(self.depth+1,self.max_depth)                   #Recursively calling next step towards left node\n",
        "        self.left.train(data_left)\n",
        "        self.right = DecisionTree(self.depth+1,self.max_depth)                  #Recursively calling next step towards right node\n",
        "        self.right.train(data_right)\n",
        "        if x_train.Survived.mean() >= 0.5:\n",
        "            self.target = 1\n",
        "        else:\n",
        "            self.target = 0\n",
        "        \n",
        "#Prediction\n",
        "\n",
        "\n",
        "    def predict(self,test):                                                     \n",
        "        if test[self.feats] > self.threshold:\n",
        "            if self.right is None:\n",
        "                return self.target\n",
        "            return self.right.predict(test)\n",
        "        if test[self.feats] < self.threshold:\n",
        "            if self.left is None:\n",
        "                return self.target\n",
        "            return self.left.predict(test)"
      ],
      "execution_count": 62,
      "outputs": []
    },
    {
      "cell_type": "code",
      "metadata": {
        "id": "2Y0eha-eKZZ4"
      },
      "source": [
        "tree = DecisionTree()\n",
        "tree.train(dtrain)"
      ],
      "execution_count": 60,
      "outputs": []
    },
    {
      "cell_type": "code",
      "metadata": {
        "id": "I6Hpy3djKfJR"
      },
      "source": [
        "\n",
        "\n",
        "y_pred = []\n",
        "for ix in range(dtest.shape[0]):\n",
        "    y_pred.append(tree.predict(dtest.loc[ix]))\n",
        "for i in range(len(y_pred)):\n",
        "    if y_pred[i] == 0:\n",
        "        y_pred[i] = 0\n",
        "    else:\n",
        "        y_pred[i] = 1"
      ],
      "execution_count": 43,
      "outputs": []
    },
    {
      "cell_type": "markdown",
      "metadata": {
        "id": "So-Cq0p_UY42"
      },
      "source": [
        "## **Calculating Accuracy & F1 score**"
      ]
    },
    {
      "cell_type": "code",
      "metadata": {
        "colab": {
          "base_uri": "https://localhost:8080/"
        },
        "id": "oXi1eaYJ7xoV",
        "outputId": "780495ea-bc2c-4e90-d848-1e0b2572a58c"
      },
      "source": [
        "def accuracy(y_true, y_pred):\n",
        "    accuracy = np.sum(y_true == y_pred) / len(y_true)\n",
        "    return accuracy\n",
        "#plt.scatter(x1,y1,'r')\n",
        "#plt.scatter(x1,out,'b')\n",
        "#plt.show()\n",
        "print(\"The accuracy obtained after testing :\" ,accuracy(y1,y_pred)*100)\n"
      ],
      "execution_count": 54,
      "outputs": [
        {
          "output_type": "stream",
          "text": [
            "The accuracy obtained after testing : 82.65682656826569\n"
          ],
          "name": "stdout"
        }
      ]
    },
    {
      "cell_type": "code",
      "metadata": {
        "id": "Tazga4jn0-3h"
      },
      "source": [
        "def compute(y1,y2):\n",
        "  tneg=0          #true negative ( expected value = 0 and predicted value=0 )\n",
        "  tpos=0          #true positive ( expected value = 1 and predicted value=1 )\n",
        "  fpos=0          #false positive ( expected value = 0 and predicted value=1 )\n",
        "  fneg=0          #false negative ( expected value = 1 and predicted value=0 )\n",
        "  for i in range(271):\n",
        "    \n",
        "    if(y1[i]==0 and y2[i]==0):\n",
        "      tneg+=1\n",
        "    elif(y1[i]==0 and y2[i]==1):\n",
        "      fpos+=1\n",
        "    elif(y1[i]==1 and y2[i]==0):\n",
        "      fneg+=1\n",
        "    else:\n",
        "      tpos+=1\n",
        "\n",
        "  return tpos,tneg,fpos,fneg\n",
        "\n",
        "def precision(true_positive,false_positive):\n",
        "  return (true_positive*100)/(true_positive+false_positive)\n",
        "def recall(true_positive,false_negative):\n",
        "  return (true_positive*100)/(true_positive+false_negative)\n",
        "def f1_score(precision,recall):\n",
        "  return (2*(precision*recall))/(precision+recall)"
      ],
      "execution_count": 56,
      "outputs": []
    },
    {
      "cell_type": "code",
      "metadata": {
        "id": "EtopdTbHnUEI",
        "colab": {
          "base_uri": "https://localhost:8080/"
        },
        "outputId": "1a3bbf86-0ad0-483e-8ede-7127b89c81a8"
      },
      "source": [
        "#Finding out values\n",
        "true_positive , true_negative , false_positive , false_negative = compute(y1,y_pred)[0] , compute(y1,y_pred)[1] , compute(y1,y_pred)[2] , compute(y1,y_pred)[3]\n",
        "precision = precision(true_positive , false_positive)   #Calculating precision\n",
        "recall=recall(true_positive,false_negative)           #Calculating recall\n",
        "print(\"F1 Score is : \",f1_score(precision,recall))"
      ],
      "execution_count": 58,
      "outputs": [
        {
          "output_type": "stream",
          "text": [
            "F1 Score is :  72.18934911242603\n"
          ],
          "name": "stdout"
        }
      ]
    },
    {
      "cell_type": "code",
      "metadata": {
        "id": "vmoYMrRqhH92"
      },
      "source": [
        ""
      ],
      "execution_count": null,
      "outputs": []
    }
  ]
}